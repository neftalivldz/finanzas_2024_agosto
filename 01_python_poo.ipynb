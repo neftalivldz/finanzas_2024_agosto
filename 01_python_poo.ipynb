{
 "cells": [
  {
   "cell_type": "code",
   "execution_count": 6,
   "id": "1455f3cd-a3af-43bc-8480-f60c98cd9173",
   "metadata": {},
   "outputs": [],
   "source": [
    "class Instrumento:\n",
    "    def __init__(self, nombre, tipo, data):\n",
    "        self.nombre = nombre\n",
    "        self.tipo = tipo\n",
    "    def presentar(self):\n",
    "        print(\"El instrumento es \" + self.nombre)\n",
    "    def duracion(self):\n",
    "        portaf"
   ]
  },
  {
   "cell_type": "code",
   "execution_count": 10,
   "id": "d3c88e6f-005f-44e9-8f75-2f73f3a12b7a",
   "metadata": {},
   "outputs": [],
   "source": [
    "activo = Instrumento(\"Apple\", \"Bono\")"
   ]
  },
  {
   "cell_type": "code",
   "execution_count": 11,
   "id": "c2490503-11c5-4917-bb03-4b5ffcf50a54",
   "metadata": {},
   "outputs": [
    {
     "data": {
      "text/plain": [
       "<__main__.Instrumento at 0x111bcf110>"
      ]
     },
     "execution_count": 11,
     "metadata": {},
     "output_type": "execute_result"
    }
   ],
   "source": [
    "activo"
   ]
  },
  {
   "cell_type": "code",
   "execution_count": 13,
   "id": "07f8e082-1393-4814-bbd5-6467fba38ddf",
   "metadata": {},
   "outputs": [
    {
     "data": {
      "text/plain": [
       "'Apple'"
      ]
     },
     "execution_count": 13,
     "metadata": {},
     "output_type": "execute_result"
    }
   ],
   "source": [
    "activo.nombre"
   ]
  },
  {
   "cell_type": "code",
   "execution_count": 14,
   "id": "b9bb4231-8580-49a6-a2bf-e55e58402f1e",
   "metadata": {},
   "outputs": [
    {
     "name": "stdout",
     "output_type": "stream",
     "text": [
      "El instrumento es Apple\n"
     ]
    }
   ],
   "source": [
    "activo.presentar()"
   ]
  },
  {
   "cell_type": "code",
   "execution_count": null,
   "id": "5b768746-c7a3-4ddb-9693-0fbe5ecfb920",
   "metadata": {},
   "outputs": [],
   "source": [
    "duracion"
   ]
  }
 ],
 "metadata": {
  "kernelspec": {
   "display_name": "Python 3 (ipykernel)",
   "language": "python",
   "name": "python3"
  },
  "language_info": {
   "codemirror_mode": {
    "name": "ipython",
    "version": 3
   },
   "file_extension": ".py",
   "mimetype": "text/x-python",
   "name": "python",
   "nbconvert_exporter": "python",
   "pygments_lexer": "ipython3",
   "version": "3.11.9"
  }
 },
 "nbformat": 4,
 "nbformat_minor": 5
}
