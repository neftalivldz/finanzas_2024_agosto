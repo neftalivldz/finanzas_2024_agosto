{
  "nbformat": 4,
  "nbformat_minor": 0,
  "metadata": {
    "colab": {
      "provenance": []
    },
    "kernelspec": {
      "name": "python3",
      "display_name": "Python 3"
    },
    "language_info": {
      "name": "python"
    }
  },
  "cells": [
    {
      "cell_type": "code",
      "execution_count": 1,
      "metadata": {
        "colab": {
          "base_uri": "https://localhost:8080/"
        },
        "id": "ao2XvyZAcjN2",
        "outputId": "868a0a6d-def3-4e1a-ca91-9b47d4d710f8"
      },
      "outputs": [
        {
          "output_type": "stream",
          "name": "stdout",
          "text": [
            "\u001b[2K     \u001b[90m━━━━━━━━━━━━━━━━━━━━━━━━━━━━━━━━━━━━━━━━\u001b[0m \u001b[32m44.1/44.1 kB\u001b[0m \u001b[31m1.6 MB/s\u001b[0m eta \u001b[36m0:00:00\u001b[0m\n",
            "\u001b[2K     \u001b[90m━━━━━━━━━━━━━━━━━━━━━━━━━━━━━━━━━━━━━━━━\u001b[0m \u001b[32m981.5/981.5 kB\u001b[0m \u001b[31m15.2 MB/s\u001b[0m eta \u001b[36m0:00:00\u001b[0m\n",
            "\u001b[?25h  Preparing metadata (setup.py) ... \u001b[?25l\u001b[?25hdone\n",
            "\u001b[2K     \u001b[90m━━━━━━━━━━━━━━━━━━━━━━━━━━━━━━━━━━━━━━━━\u001b[0m \u001b[32m50.1/50.1 kB\u001b[0m \u001b[31m3.4 MB/s\u001b[0m eta \u001b[36m0:00:00\u001b[0m\n",
            "\u001b[?25h\u001b[33mWARNING: pandas 2.2.2 does not provide the extra 'jinja2'\u001b[0m\u001b[33m\n",
            "\u001b[2K     \u001b[90m━━━━━━━━━━━━━━━━━━━━━━━━━━━━━━━━━━━━━━━━\u001b[0m \u001b[32m42.2/42.2 kB\u001b[0m \u001b[31m2.9 MB/s\u001b[0m eta \u001b[36m0:00:00\u001b[0m\n",
            "\u001b[?25h  Preparing metadata (setup.py) ... \u001b[?25l\u001b[?25hdone\n",
            "\u001b[2K     \u001b[90m━━━━━━━━━━━━━━━━━━━━━━━━━━━━━━━━━━━━━━━━\u001b[0m \u001b[32m42.0/42.0 kB\u001b[0m \u001b[31m2.8 MB/s\u001b[0m eta \u001b[36m0:00:00\u001b[0m\n",
            "\u001b[2K     \u001b[90m━━━━━━━━━━━━━━━━━━━━━━━━━━━━━━━━━━━━━━━━\u001b[0m \u001b[32m48.5/48.5 kB\u001b[0m \u001b[31m3.4 MB/s\u001b[0m eta \u001b[36m0:00:00\u001b[0m\n",
            "\u001b[2K     \u001b[90m━━━━━━━━━━━━━━━━━━━━━━━━━━━━━━━━━━━━━━━━\u001b[0m \u001b[32m117.0/117.0 kB\u001b[0m \u001b[31m8.3 MB/s\u001b[0m eta \u001b[36m0:00:00\u001b[0m\n",
            "\u001b[?25h  Preparing metadata (setup.py) ... \u001b[?25l\u001b[?25hdone\n",
            "\u001b[2K   \u001b[90m━━━━━━━━━━━━━━━━━━━━━━━━━━━━━━━━━━━━━━━━\u001b[0m \u001b[32m10.0/10.0 MB\u001b[0m \u001b[31m69.1 MB/s\u001b[0m eta \u001b[36m0:00:00\u001b[0m\n",
            "\u001b[2K   \u001b[90m━━━━━━━━━━━━━━━━━━━━━━━━━━━━━━━━━━━━━━━━\u001b[0m \u001b[32m1.7/1.7 MB\u001b[0m \u001b[31m62.3 MB/s\u001b[0m eta \u001b[36m0:00:00\u001b[0m\n",
            "\u001b[2K   \u001b[90m━━━━━━━━━━━━━━━━━━━━━━━━━━━━━━━━━━━━━━━━\u001b[0m \u001b[32m886.7/886.7 kB\u001b[0m \u001b[31m38.1 MB/s\u001b[0m eta \u001b[36m0:00:00\u001b[0m\n",
            "\u001b[2K   \u001b[90m━━━━━━━━━━━━━━━━━━━━━━━━━━━━━━━━━━━━━━━━\u001b[0m \u001b[32m20.2/20.2 MB\u001b[0m \u001b[31m46.5 MB/s\u001b[0m eta \u001b[36m0:00:00\u001b[0m\n",
            "\u001b[2K   \u001b[90m━━━━━━━━━━━━━━━━━━━━━━━━━━━━━━━━━━━━━━━━\u001b[0m \u001b[32m62.0/62.0 kB\u001b[0m \u001b[31m4.4 MB/s\u001b[0m eta \u001b[36m0:00:00\u001b[0m\n",
            "\u001b[2K   \u001b[90m━━━━━━━━━━━━━━━━━━━━━━━━━━━━━━━━━━━━━━━━\u001b[0m \u001b[32m233.5/233.5 kB\u001b[0m \u001b[31m15.4 MB/s\u001b[0m eta \u001b[36m0:00:00\u001b[0m\n",
            "\u001b[2K   \u001b[90m━━━━━━━━━━━━━━━━━━━━━━━━━━━━━━━━━━━━━━━━\u001b[0m \u001b[32m147.8/147.8 kB\u001b[0m \u001b[31m10.6 MB/s\u001b[0m eta \u001b[36m0:00:00\u001b[0m\n",
            "\u001b[2K   \u001b[90m━━━━━━━━━━━━━━━━━━━━━━━━━━━━━━━━━━━━━━━━\u001b[0m \u001b[32m114.9/114.9 kB\u001b[0m \u001b[31m7.5 MB/s\u001b[0m eta \u001b[36m0:00:00\u001b[0m\n",
            "\u001b[2K   \u001b[90m━━━━━━━━━━━━━━━━━━━━━━━━━━━━━━━━━━━━━━━━\u001b[0m \u001b[32m80.2/80.2 kB\u001b[0m \u001b[31m5.5 MB/s\u001b[0m eta \u001b[36m0:00:00\u001b[0m\n",
            "\u001b[2K   \u001b[90m━━━━━━━━━━━━━━━━━━━━━━━━━━━━━━━━━━━━━━━━\u001b[0m \u001b[32m38.3/38.3 MB\u001b[0m \u001b[31m16.8 MB/s\u001b[0m eta \u001b[36m0:00:00\u001b[0m\n",
            "\u001b[2K   \u001b[90m━━━━━━━━━━━━━━━━━━━━━━━━━━━━━━━━━━━━━━━━\u001b[0m \u001b[32m244.3/244.3 kB\u001b[0m \u001b[31m15.7 MB/s\u001b[0m eta \u001b[36m0:00:00\u001b[0m\n",
            "\u001b[2K   \u001b[90m━━━━━━━━━━━━━━━━━━━━━━━━━━━━━━━━━━━━━━━━\u001b[0m \u001b[32m1.2/1.2 MB\u001b[0m \u001b[31m47.1 MB/s\u001b[0m eta \u001b[36m0:00:00\u001b[0m\n",
            "\u001b[2K   \u001b[90m━━━━━━━━━━━━━━━━━━━━━━━━━━━━━━━━━━━━━━━━\u001b[0m \u001b[32m144.2/144.2 kB\u001b[0m \u001b[31m10.5 MB/s\u001b[0m eta \u001b[36m0:00:00\u001b[0m\n",
            "\u001b[2K   \u001b[90m━━━━━━━━━━━━━━━━━━━━━━━━━━━━━━━━━━━━━━━━\u001b[0m \u001b[32m586.9/586.9 kB\u001b[0m \u001b[31m29.3 MB/s\u001b[0m eta \u001b[36m0:00:00\u001b[0m\n",
            "\u001b[2K   \u001b[90m━━━━━━━━━━━━━━━━━━━━━━━━━━━━━━━━━━━━━━━━\u001b[0m \u001b[32m16.0/16.0 MB\u001b[0m \u001b[31m72.0 MB/s\u001b[0m eta \u001b[36m0:00:00\u001b[0m\n",
            "\u001b[2K   \u001b[90m━━━━━━━━━━━━━━━━━━━━━━━━━━━━━━━━━━━━━━━━\u001b[0m \u001b[32m274.9/274.9 kB\u001b[0m \u001b[31m17.3 MB/s\u001b[0m eta \u001b[36m0:00:00\u001b[0m\n",
            "\u001b[2K   \u001b[90m━━━━━━━━━━━━━━━━━━━━━━━━━━━━━━━━━━━━━━━━\u001b[0m \u001b[32m3.1/3.1 MB\u001b[0m \u001b[31m56.5 MB/s\u001b[0m eta \u001b[36m0:00:00\u001b[0m\n",
            "\u001b[2K   \u001b[90m━━━━━━━━━━━━━━━━━━━━━━━━━━━━━━━━━━━━━━━━\u001b[0m \u001b[32m203.2/203.2 kB\u001b[0m \u001b[31m14.0 MB/s\u001b[0m eta \u001b[36m0:00:00\u001b[0m\n",
            "\u001b[2K   \u001b[90m━━━━━━━━━━━━━━━━━━━━━━━━━━━━━━━━━━━━━━━━\u001b[0m \u001b[32m49.5/49.5 kB\u001b[0m \u001b[31m2.7 MB/s\u001b[0m eta \u001b[36m0:00:00\u001b[0m\n",
            "\u001b[2K   \u001b[90m━━━━━━━━━━━━━━━━━━━━━━━━━━━━━━━━━━━━━━━━\u001b[0m \u001b[32m5.9/5.9 MB\u001b[0m \u001b[31m64.1 MB/s\u001b[0m eta \u001b[36m0:00:00\u001b[0m\n",
            "\u001b[2K   \u001b[90m━━━━━━━━━━━━━━━━━━━━━━━━━━━━━━━━━━━━━━━━\u001b[0m \u001b[32m78.6/78.6 kB\u001b[0m \u001b[31m5.9 MB/s\u001b[0m eta \u001b[36m0:00:00\u001b[0m\n",
            "\u001b[2K   \u001b[90m━━━━━━━━━━━━━━━━━━━━━━━━━━━━━━━━━━━━━━━━\u001b[0m \u001b[32m46.0/46.0 kB\u001b[0m \u001b[31m3.3 MB/s\u001b[0m eta \u001b[36m0:00:00\u001b[0m\n",
            "\u001b[2K   \u001b[90m━━━━━━━━━━━━━━━━━━━━━━━━━━━━━━━━━━━━━━━━\u001b[0m \u001b[32m112.5/112.5 kB\u001b[0m \u001b[31m8.1 MB/s\u001b[0m eta \u001b[36m0:00:00\u001b[0m\n",
            "\u001b[2K   \u001b[90m━━━━━━━━━━━━━━━━━━━━━━━━━━━━━━━━━━━━━━━━\u001b[0m \u001b[32m19.2/19.2 MB\u001b[0m \u001b[31m49.5 MB/s\u001b[0m eta \u001b[36m0:00:00\u001b[0m\n",
            "\u001b[2K   \u001b[90m━━━━━━━━━━━━━━━━━━━━━━━━━━━━━━━━━━━━━━━━\u001b[0m \u001b[32m59.2/59.2 kB\u001b[0m \u001b[31m4.1 MB/s\u001b[0m eta \u001b[36m0:00:00\u001b[0m\n",
            "\u001b[2K   \u001b[90m━━━━━━━━━━━━━━━━━━━━━━━━━━━━━━━━━━━━━━━━\u001b[0m \u001b[32m5.6/5.6 MB\u001b[0m \u001b[31m62.2 MB/s\u001b[0m eta \u001b[36m0:00:00\u001b[0m\n",
            "\u001b[2K   \u001b[90m━━━━━━━━━━━━━━━━━━━━━━━━━━━━━━━━━━━━━━━━\u001b[0m \u001b[32m86.8/86.8 kB\u001b[0m \u001b[31m6.3 MB/s\u001b[0m eta \u001b[36m0:00:00\u001b[0m\n",
            "\u001b[2K   \u001b[90m━━━━━━━━━━━━━━━━━━━━━━━━━━━━━━━━━━━━━━━━\u001b[0m \u001b[32m79.5/79.5 kB\u001b[0m \u001b[31m5.7 MB/s\u001b[0m eta \u001b[36m0:00:00\u001b[0m\n",
            "\u001b[2K   \u001b[90m━━━━━━━━━━━━━━━━━━━━━━━━━━━━━━━━━━━━━━━━\u001b[0m \u001b[32m2.8/2.8 MB\u001b[0m \u001b[31m56.8 MB/s\u001b[0m eta \u001b[36m0:00:00\u001b[0m\n",
            "\u001b[?25h  Building wheel for langdetect (setup.py) ... \u001b[?25l\u001b[?25hdone\n",
            "  Building wheel for iopath (setup.py) ... \u001b[?25l\u001b[?25hdone\n",
            "  Building wheel for antlr4-python3-runtime (setup.py) ... \u001b[?25l\u001b[?25hdone\n"
          ]
        }
      ],
      "source": [
        "%pip install --quiet transformers==4.46.1 \"unstructured[pdf,docx]==0.10.30\" llama-index==0.9.3 pydantic==2.9.2 mlflow==2.12.1\n"
      ]
    },
    {
      "cell_type": "code",
      "source": [
        "!pip install pyspark"
      ],
      "metadata": {
        "colab": {
          "base_uri": "https://localhost:8080/"
        },
        "id": "CRG7uOTRfzNP",
        "outputId": "2d301372-0be7-4961-d5eb-c81417daca23"
      },
      "execution_count": 2,
      "outputs": [
        {
          "output_type": "stream",
          "name": "stdout",
          "text": [
            "Requirement already satisfied: pyspark in /usr/local/lib/python3.10/dist-packages (3.5.3)\n",
            "Requirement already satisfied: py4j==0.10.9.7 in /usr/local/lib/python3.10/dist-packages (from pyspark) (0.10.9.7)\n"
          ]
        }
      ]
    },
    {
      "cell_type": "code",
      "source": [
        "import nltk\n",
        "nltk.download('punkt_tab')\n",
        "nltk.download('punkt')\n",
        "nltk.download('averaged_perceptron_tagger_eng')\n",
        "from nltk.tokenize import word_tokenize"
      ],
      "metadata": {
        "colab": {
          "base_uri": "https://localhost:8080/"
        },
        "id": "55f4JR8MNnCd",
        "outputId": "3ae291fc-11b6-43ea-97a4-888008b63b9b"
      },
      "execution_count": 14,
      "outputs": [
        {
          "output_type": "stream",
          "name": "stderr",
          "text": [
            "[nltk_data] Downloading package punkt_tab to /root/nltk_data...\n",
            "[nltk_data]   Package punkt_tab is already up-to-date!\n",
            "[nltk_data] Downloading package punkt to /root/nltk_data...\n",
            "[nltk_data]   Package punkt is already up-to-date!\n",
            "[nltk_data] Downloading package averaged_perceptron_tagger_eng to\n",
            "[nltk_data]     /root/nltk_data...\n",
            "[nltk_data]   Unzipping taggers/averaged_perceptron_tagger_eng.zip.\n"
          ]
        }
      ]
    },
    {
      "cell_type": "code",
      "source": [
        "# Import SparkSession\n",
        "from pyspark.sql import SparkSession\n",
        "# Create a Spark Session\n",
        "spark = SparkSession.builder.master(\"local[*]\").getOrCreate()\n",
        "# Check Spark Session Information\n",
        "spark\n"
      ],
      "metadata": {
        "colab": {
          "base_uri": "https://localhost:8080/",
          "height": 216
        },
        "id": "DbeSgY2gcm1g",
        "outputId": "d51220be-04dd-4ac2-adfd-92104a188973"
      },
      "execution_count": 3,
      "outputs": [
        {
          "output_type": "execute_result",
          "data": {
            "text/plain": [
              "<pyspark.sql.session.SparkSession at 0x79af2d1e3640>"
            ],
            "text/html": [
              "\n",
              "            <div>\n",
              "                <p><b>SparkSession - in-memory</b></p>\n",
              "                \n",
              "        <div>\n",
              "            <p><b>SparkContext</b></p>\n",
              "\n",
              "            <p><a href=\"http://6df733b78240:4040\">Spark UI</a></p>\n",
              "\n",
              "            <dl>\n",
              "              <dt>Version</dt>\n",
              "                <dd><code>v3.5.3</code></dd>\n",
              "              <dt>Master</dt>\n",
              "                <dd><code>local[*]</code></dd>\n",
              "              <dt>AppName</dt>\n",
              "                <dd><code>pyspark-shell</code></dd>\n",
              "            </dl>\n",
              "        </div>\n",
              "        \n",
              "            </div>\n",
              "        "
            ]
          },
          "metadata": {},
          "execution_count": 3
        }
      ]
    },
    {
      "cell_type": "code",
      "source": [
        "# Reduce the arrow batch size as our PDF can be big in memory\n",
        "spark.conf.set(\"spark.sql.execution.arrow.maxRecordsPerBatch\", 10)"
      ],
      "metadata": {
        "id": "ojNg3_xZeXiw"
      },
      "execution_count": 4,
      "outputs": []
    },
    {
      "cell_type": "code",
      "source": [
        "articles_path = f\"pdfs/\"\n",
        "#table_name = f\"{DA.catalog_name}.{DA.schema_name}.pdf_raw_text\"\n",
        "\n",
        "# read pdf files\n",
        "df = (\n",
        "        spark.read.format(\"binaryfile\")\n",
        "        .option(\"recursiveFileLookup\", \"true\")\n",
        "        .load(articles_path)\n",
        "        )\n",
        "\n",
        "# save list of the files to table\n",
        "df.write.mode(\"overwrite\").coalesce(1).saveAsTable('nvidia')\n",
        "display(df)"
      ],
      "metadata": {
        "colab": {
          "base_uri": "https://localhost:8080/",
          "height": 34
        },
        "id": "Mb141O5WhxMc",
        "outputId": "4247498c-8799-45cf-89c9-279c3f638767"
      },
      "execution_count": 5,
      "outputs": [
        {
          "output_type": "display_data",
          "data": {
            "text/plain": [
              "DataFrame[path: string, modificationTime: timestamp, length: bigint, content: binary]"
            ]
          },
          "metadata": {}
        }
      ]
    },
    {
      "cell_type": "code",
      "source": [
        "df.show()"
      ],
      "metadata": {
        "colab": {
          "base_uri": "https://localhost:8080/"
        },
        "id": "9zpcCX-VlizY",
        "outputId": "36d56d78-f3da-464c-88a5-fd96f214be0e"
      },
      "execution_count": 6,
      "outputs": [
        {
          "output_type": "stream",
          "name": "stdout",
          "text": [
            "+--------------------+--------------------+------+--------------------+\n",
            "|                path|    modificationTime|length|             content|\n",
            "+--------------------+--------------------+------+--------------------+\n",
            "|file:/content/pdf...|2024-11-13 06:22:...| 94358|[25 50 44 46 2D 3...|\n",
            "|file:/content/pdf...|2024-11-13 06:22:...| 93752|[25 50 44 46 2D 3...|\n",
            "|file:/content/pdf...|2024-11-13 06:22:...| 92940|[25 50 44 46 2D 3...|\n",
            "|file:/content/pdf...|2024-11-13 06:22:...| 89308|[25 50 44 46 2D 3...|\n",
            "|file:/content/pdf...|2024-11-13 06:22:...| 87619|[25 50 44 46 2D 3...|\n",
            "|file:/content/pdf...|2024-11-13 06:22:...| 84427|[25 50 44 46 2D 3...|\n",
            "|file:/content/pdf...|2024-11-13 06:22:...| 81889|[25 50 44 46 2D 3...|\n",
            "|file:/content/pdf...|2024-11-13 06:22:...| 80686|[25 50 44 46 2D 3...|\n",
            "|file:/content/pdf...|2024-11-13 06:22:...| 80629|[25 50 44 46 2D 3...|\n",
            "|file:/content/pdf...|2024-11-13 06:22:...| 80248|[25 50 44 46 2D 3...|\n",
            "|file:/content/pdf...|2024-11-13 06:22:...| 76255|[25 50 44 46 2D 3...|\n",
            "+--------------------+--------------------+------+--------------------+\n",
            "\n"
          ]
        }
      ]
    },
    {
      "cell_type": "code",
      "source": [
        "import time\n",
        "from unstructured.partition.auto import partition\n",
        "import re\n",
        "import io\n",
        "\n",
        "def extract_doc_text(x : bytes) -> str:\n",
        "  # Read files and extract the values with unstructured\n",
        "  sections = partition(file=io.BytesIO(x))\n",
        "  def clean_section(txt):\n",
        "    txt = re.sub(r'\\n', '', txt)\n",
        "    return re.sub(r' ?\\.', '.', txt)\n",
        "  # Default split is by section of document\n",
        "  # concatenate them all together because we want to split by sentence instead.\n",
        "  return \"\\n\".join([clean_section(s.text) for s in sections])\n"
      ],
      "metadata": {
        "id": "UFxT0rchnIW7"
      },
      "execution_count": 7,
      "outputs": []
    },
    {
      "cell_type": "code",
      "source": [
        "with open(f\"pdfs/Filing Date - 2022-Aug-30 - NVDA.OQ - NVIDIA Corp - 10-Q - NVIDIA CORP 10-Q - 221218592.pdf\", mode=\"rb\") as pdf:\n",
        "  doc = extract_doc_text(pdf.read())\n",
        "  print(doc)"
      ],
      "metadata": {
        "colab": {
          "base_uri": "https://localhost:8080/"
        },
        "id": "ax_ndgo2lxLZ",
        "outputId": "314d2044-6362-462b-be9e-4756af3977c9"
      },
      "execution_count": 15,
      "outputs": [
        {
          "output_type": "stream",
          "name": "stdout",
          "text": [
            ">\n",
            "ITEM 2. MANAGEMENT’S DISCUSSION AND ANALYSIS OF FINANCIAL CONDITION AND RESULTS OF OPERATIONS Forward-Looking Statements This Quarterly Report on Form 10-Q contains forward-looking statements which are based on our management’s beliefs and assumptions and on information currently available to our management. In some cases, you can identify forward-looking statements by terms such as “may,” “will,” “should,” “could,” “goal,” “would,” “expect,” “plan,” “anticipate,” “believe,” “estimate,” “project,” “predict,” “potential” and similar expressions intended to identify forward-looking statements. These statements involve known and unknown risks, uncertainties and other factors, which may cause our actual results, performance, time frames or achievements to be materially different from any future results, performance, time frames or achievements expressed or implied by the forward-looking statements. We discuss many of these risks, uncertainties and other factors in this Quarterly Report on Form 10-Q and in our Annual Report on Form 10-K for the fiscal year ended January 30, 2022 in greater detail under the heading “Risk Factors” of such reports. Given these risks, uncertainties and other factors, you should not place undue reliance on these forward-looking statements. Also, these forward-looking statements represent our estimates and assumptions only as of the date of this filing. You should read this Quarterly Report on Form 10-Q completely and with the understanding that our actual future results may be materially different from what we expect. We hereby qualify our forward-looking statements by these cautionary statements. Except as required by law, we assume no obligation to update these forward-looking statements publicly, or to update the reasons actual results could differ materially from those anticipated in these forward-looking statements, even if new information becomes available in the future.\n",
            "All references to “NVIDIA,” “we,” “us,” “our” or the “Company” mean NVIDIA Corporation and its subsidiaries.\n",
            "NVIDIA, the NVIDIA logo, GeForce, GeForce NOW, GeForce RTX, Mellanox, NVIDIA AI Enterprise, NVIDIA DGX, NVIDIA DRIVE, NVIDIA DRIVE Orin, NVIDIA Grace, NVIDIA HGX, NVIDIA Jetson, NVIDIA NeMO, NVIDIA Omniverse, NVIDIA QODA, NVIDIA RTX, NVIDIA Studio and Quadro, are trademarks and/or registered trademarks of NVIDIA Corporation in the United States and/or other countries. Other company and product names may be trademarks of the respective companies with which they are associated. Features, pricing, availability, and specifications are subject to change without notice.\n",
            "The following discussion and analysis of our financial condition and results of operations should be read in conjunction with the risk factors set forth in Item 1A. “Risk Factors” of our Annual Report on Form 10-K for the fiscal year ended January 30, 2022 and Part II, Item 1A. “Risk Factors” of this Quarterly Report on Form 10-Q and our Condensed Consolidated Financial Statements and related Notes thereto, as well as other cautionary statements and risks described elsewhere in this Quarterly Report on Form 10-Q and our other filings with the SEC, before deciding to purchase or sell shares of our common stock.\n",
            "Overview Our Company and Our Businesses NVIDIA pioneered accelerated computing to help solve the most challenging computational problems. Since our original focus on PC graphics, we have expanded to several other large and important computationally intensive fields. Fueled by the sustained demand for exceptional 3D graphics and the scale of the gaming market, NVIDIA has leveraged its GPU architecture to create platforms for scientific computing, AI, data science, autonomous vehicles, robotics, and augmented and virtual reality.\n",
            "Our two operating segments are \"Graphics\" and \"Compute & Networking,\" as described in Note 15 of the Notes to Condensed Consolidated Financial Statements.\n",
            "Headquartered in Santa Clara, California, NVIDIA was incorporated in California in April 1993 and reincorporated in Delaware in April 1998.\n",
            "Recent Developments, Future Objectives and Challenges\n",
            "Termination of the Arm Share Purchase Agreement On February 8, 2022, NVIDIA and SoftBank announced the termination of the Share Purchase Agreement whereby NVIDIA would have acquired Arm from SoftBank. The parties agreed to terminate because of significant regulatory challenges preventing the completion of the transaction. We recorded an acquisition termination cost of $1.35 billion in the first quarter of fiscal year 2023 reflecting the write-off of the prepayment provided at signing in September 2020.\n",
            "23\n",
            "Demand and Supply Because we do not manufacture the semiconductors used for our products, we are dependent on third parties to manufacture and assemble our products. Our manufacturing lead times are very long, which requires us to make estimates of customers’ future demand. At the same time, we do not have a guaranteed supply of wafers, components and capacity, and our supply deliveries and production may be non-linear within a quarter or year, which has previously caused changes to expected revenue and cash flows, and which may reoccur in the future. If our estimates of customer demand are ultimately inaccurate, as we have experienced from time to time, these conditions could lead to a significant mismatch between supply and demand. This mismatch has resulted in product shortages and excess inventory, has varied across our market platforms, and significantly harmed our financial results.\n",
            "We build finished products and maintain inventory in advance of anticipated demand. In periods of shortages impacting the semiconductor industry and/or limited supply or capacity in our supply chain, as we have experienced in the past, the lead time on our orders for certain supply has extended to more than twelve months, compared to a historical lead time of approximately six months. Extended lead times may continue if we experience other supply constraints caused by natural disasters or other events. As a result, we have paid premiums and provided deposits to secure future supply and capacity, which have increased our product costs, and may need to continue to do so in the future. Our supply, which includes inventory on hand, purchase obligations and prepaid supply agreements, has grown significantly due to current supply chain conditions and complexity of our products. Purchase obligations and prepaid supply agreements represent approximately three quarters of our total supply.\n",
            "Demand for our products is based on many factors, including our product introductions and transitions, time to market, competitor product releases and announcements, competing technologies, and changes in macroeconomic conditions, including rising inflation. Each of these factors has previously impacted, and can in the future impact, the timing and volume of our revenue. Our demand predictions may not be correct, as we have experienced from time to time. Product transitions are complex and frequently negatively impact our revenue as we manage shipments of legacy prior architecture products and channel partners prepare and adjust to support new products. We are entering a timeframe when we will transition architectures for both our Gaming and Data Center products, which may impair our ability to predict demand and impact our supply mix. We may experience, and have in the past experienced, reduced demand for current generation architectures when customers anticipate transitions. If we are unable to execute our architectural transitions as planned for any reason, our financial results may be negatively impacted. Our ability to sell certain products has in the past been and can in the future be impeded if components from third parties that are necessary for the finished product are not available. Additionally, we sell most of our products through channel partners, who sell to retailers, distributors, and/or end customers. As a result, the decisions made by our channel partners, retailers and distributors in response to changing market conditions and changes in end user demand for our products have impacted and could in the future continue to impact our ability to properly forecast demand, particularly as they are based on estimates provided by various downstream parties.\n",
            "In recent periods, COVID-19-related disruptions and lockdowns in China have created and may continue to create supply and logistics constraints. The war in Ukraine has further strained global supply chains and may in the future result in a shortage of key materials that our suppliers, including our foundry partners, require to satisfy our needs.\n",
            "Our GPUs are designed for the Gaming, Data Center, Professional Visualization and Automotive markets. The use of our GPUs for use cases other than that for which they were designed and marketed, including new and unexpected use cases, has impacted and can in the future impact demand for our products, including by leading to inconsistent spikes and drops in demand. For example, many years ago, our Gaming GPUs began to be used for digital currency mining, including blockchain-based platforms such as Ethereum. It is difficult for us to estimate with any reasonable degree of precision the past or current impact of cryptocurrency mining, or forecast the future impact of cryptocurrency mining, on demand for our products. Volatility in the cryptocurrency market, including new compute technologies, price changes in cryptocurrencies, government cryptocurrency policies and regulations, new cryptocurrency standards, and changes in the method of verifying blockchain transactions, has impacted and can in the future impact cryptocurrency mining and demand for our products and can further impact our ability to estimate demand for our products. Changes to cryptocurrency standards and processes including, but not limited to, the pending Ethereum 2.0 merge may decrease the usage of GPUs for Ethereum mining as well as create increased aftermarket resales of our GPUs, which could negatively impact retail prices for our GPUs, increase returns of our products in the distribution channel, and reduce demand for our new GPUs. We have introduced Lite Hash Rate, or LHR, GeForce GPUs with limited Ethereum mining capability and provided CMP products in an effort to address demand from gamers and direct miners to CMP. Beginning in the second quarter of fiscal year 2022, most desktop NVIDIA Ampere architecture GeForce GPU shipments were LHR to help direct GeForce GPUs to gamers. Attempts in the aftermarket to improve the hash rate capabilities of our LHR cards have been successful and our gaming cards may become more attractive to miners, increasing demand for our\n",
            "24\n",
            "gaming GPUs and limiting our ability to supply our gaming cards to non-mining customers. We cannot predict whether our strategy of using LHR cards and CMP will achieve our desired outcome. In addition, our new products or previously sold products may be resold online or on the unauthorized “gray market,” which also makes demand forecasting difficult. Gray market products or reseller marketplaces compete with our distribution channels.\n",
            "In the second quarter of fiscal year 2023, Gaming revenue experienced lower sell-in of our Gaming GPUs, reflecting reduced channel partner sales due to macroeconomic headwinds, including the negative impact of high inflation on consumer spending and weaker consumer purchasing power in markets whose currencies weakened relative to the U.S. dollar, as our sales are in U.S. dollars. Our channel partners reduced their inventory and are transitioning to a lower value mix of inventory to better align with demand as well as an architectural transition, and we implemented pricing programs with them to address challenging market conditions that we expect to persist into the third quarter of fiscal year 2023. The sequential decline in Gaming revenue also resulted from the war in Ukraine impacting sales in Europe and lockdowns in China due to COVID-19. The extent to which reduced cryptocurrency mining contributed to the decline in Gaming demand is difficult for us to reasonably quantify. Economic conditions in China drove lower sales to China hyperscale customers, impacting our Data Center revenue, and drove lower sales of Gaming products. We and our customers are also experiencing Data Center supply chain disruptions as our customers delay purchases pending the availability of other third party components. These recent reductions in demand and our reduced expectations of future demand have required us to record charges for excess inventory on hand and on order, and cancellation and underutilization penalties. Potential future demand reductions could require additional reserves. Mismatches between our supply and demand may occur in future quarters.\n",
            "On August 26, 2022, the U.S. government, or USG, informed us that it has imposed a new license requirement, effective immediately, for any future export to China (including Hong Kong) and Russia of our A100 and forthcoming H100 integrated circuits. DGX or any other systems which incorporate A100 or H100 integrated circuits and our A100X are also covered by the new license requirement. The license requirement also includes any future NVIDIA integrated circuit achieving both peak performance and chip-to-chip I/O performance equal to or greater than thresholds that are roughly equivalent to the A100, as well as any system that includes those circuits. A license is required to export technology to support or develop covered products. The USG indicated that the new license requirement will address the risk that the covered products may be used in, or diverted to, a ‘military end use’ or ‘military end user’ in China and Russia. We do not sell products to customers in Russia.\n",
            "The new license requirement may impact our ability to complete our development of H100 in a timely manner or support existing customers of A100 and may require us to transition certain operations out of China, which could be costly and time consuming, and adversely affect our research and development and supply and distribution operations, as well as our revenue, during any such transition period. We are engaged with the USG and are seeking exemptions for our internal development and support activities.\n",
            "We are engaging with customers in China and are seeking to satisfy their planned or future purchases of our Data Center products with products not subject to the new license requirement. To the extent that a customer requires products covered by the new license requirement, we may seek a license for the customer but have no assurance that the USG will grant any exemptions or licenses for any customer, or that the USG will act on them in a timely manner. The new requirement may have a disproportionate impact on NVIDIA and may disadvantage NVIDIA against our competitors, who are not subject to the same restrictions.\n",
            "Our outlook for our third fiscal quarter provided on August 24, 2022 included approximately $400 million in potential sales to China which may be subject to the new license requirement. Our future revenue and profitability may be substantially reduced relative to this outlook, and our competitive position may be harmed, if customers do not want to purchase our alternative product offerings or if the USG does not grant licenses in a timely manner or denies licenses to significant customers. Even if the USG grants the requested licenses, the new requirement may benefit our competitors, as the licensing process will make our sales and support efforts more cumbersome, less certain, and encourage customers in China to pursue alternatives to our products, including semiconductor suppliers based in China, Europe, and Israel.\n",
            "COVID-19 As the COVID-19 pandemic continues, most of our employees continue to work remotely and we have paused most business travel. When our offices begin to reopen, we expect to incur incremental expenses and related in-office costs as we resume onsite services.\n",
            "25\n",
            "Consumer and enterprise behavior during the COVID-19 pandemic, such as fluctuating demand for our Gaming, Data Center, and workstation products, has made it more difficult for us to estimate future demand and may have changed pre-pandemic behaviors. At the same time, restrictions that may be imposed or reinstated as the pandemic continues, such as recent lockdown measures due to COVID-19 containment efforts in China, have negatively impacted end customer sales for our products in China and this impact may continue if future lockdowns are imposed. These challenges in estimating demand are expected to be more pronounced or volatile in the future on both a global and regional basis and may continue in the future when the effects of the pandemic subside. Additionally, recent COVID-19-related disruptions and lockdowns in China have created and may continue to create supply chain and logistics constraints.\n",
            "The timing and overall demand from customers, and the limited availability of supply chain, logistical services and component supply, as a result of COVID-19, has had and may continue to have a material net negative impact on our business and financial results.\n",
            "Russia\n",
            "During the first quarter of fiscal year 2023, we paused direct sales to Russia. Direct sales to Russia in fiscal year 2022 were immaterial. Our revenue to partners that sell into Russia may be negatively impacted due to the war in Ukraine and we estimate that in fiscal year 2022, Russia accounted for approximately 2% of total end customer sales and 4% of Gaming end customer sales. Long lived assets in Russia are immaterial.\n",
            "Second Quarter of Fiscal Year 2023 Summary\n",
            "Revenue Gross margin Operating expenses Income from operations Net income Net income per diluted share\n",
            "$\n",
            "$ $ $ $\n",
            "July 31, 2022\n",
            "Three Months Ended May 1, 2022 ($ in millions, except per share data) $\n",
            "6,704 43.5 % 2,416 499 656 0.26\n",
            "$\n",
            "8,288 65.5 % 3,563 1,868 1,618 0.64\n",
            "$ $ $ $\n",
            "$ $ $ $\n",
            "August 1, 2021\n",
            "6,507 64.8 % 1,771 2,444 2,374 0.94\n",
            "Quarter-over-Quarter Change\n",
            "(19) % (22.0) pts (32) % (73) % (59) % (59) %\n",
            "Year-over-Year Change\n",
            "3 % (21.3) pts 36 % (80) % (72) % (72) %\n",
            "We specialize in markets where our computing platforms can provide tremendous acceleration for applications. These platforms incorporate processors, interconnects, software, algorithms, systems, and services to deliver unique value. Our platforms address four large markets where our expertise is critical: Gaming, Data Center, Professional Visualization, and Automotive.\n",
            "Revenue for the second quarter of fiscal year 2023 was $6.70 billion, up 3% from a year ago and down 19% sequentially.\n",
            "Gaming revenue was down 33% from a year ago and down 44% sequentially. These decreases were primarily attributable to lower sell-in of Gaming products, reflecting reduced channel partner sales due to macroeconomic headwinds. In addition to reducing sell-in, we implemented pricing programs with channel partners to address challenging market conditions that are expected to persist into the third quarter of fiscal year 2023.\n",
            "Our GPUs are capable of cryptocurrency mining, though we have limited visibility into how much this impacts our overall GPU demand. Volatility in the cryptocurrency market – such as declines in cryptocurrency prices or changes in method of verifying transactions, including proof of work or proof of stake – has in the past impacted, and can in the future impact, demand for our products and our ability to accurately estimate it. As noted last quarter, we had expected cryptocurrency mining to make a diminishing contribution to Gaming demand. We are unable to accurately quantify the extent to which reduced cryptocurrency mining contributed to the decline in Gaming demand.\n",
            "Data Center revenue was up 61% from a year ago and up 1% sequentially. The year-on-year increase was primarily driven by hyperscale customer revenue, which nearly doubled. Sequentially, sales to North America hyperscale and cloud computing customers increased, but were more than offset by lower sales to China hyperscale customers affected by economic conditions in China. Vertical industries grew both sequentially and year-on-year. Key workloads driving\n",
            "26\n",
            "growth included natural language processing, deep recommenders, autonomous vehicle fleet data processing and training, and cloud graphics.\n",
            "Professional Visualization revenue was down 4% from a year ago and down 20% sequentially. The sequential increase in mobile revenue was more than offset by lower desktop revenue, particularly at the high end.\n",
            "Automotive revenue was up 45% from a year ago and up 59% sequentially. These increases were driven by revenue from self-driving and AI cockpit solutions, partially offset by a decline of legacy cockpit revenue.\n",
            "OEM and Other revenue was down 66% from a year ago and down 11% sequentially. The sequential decline was driven by lower notebook OEM sales, partially offset by higher Jetson sales. CMP revenue was nominal in the current and prior quarter, and $266 million a year ago.\n",
            "Gross margin decreases were primarily due to a $1.34 billion charge, comprised of $1.22 billion for inventory and related reserves and $122 million for warranty reserves.\n",
            "The $1.22 billion charge for inventory and related reserves is based on revised expectations of future demand, primarily relating to Data Center and Gaming. The charge consists of approximately $570 million for inventory on hand and approximately $650 million for inventory purchase obligations in excess of our current demand projections, and cancellation and underutilization penalties.\n",
            "Operating expense includes a $1.35 billion acquisition termination charge related to the Arm transaction in the prior quarter. Operating expenses were influenced primarily by employee growth costs, as well as increases in salaries to support our employees during this high inflationary environment, and engineering development of new products coming to market.\n",
            "Cash, cash equivalents and marketable securities were $17.04 billion, down from $19.65 billion a year ago and down from $20.34 billion a quarter ago. The year-on-year and sequential decreases reflect share repurchases offset by operating cash flow generation.\n",
            "During the second quarter of fiscal year 2023, we returned $3.44 billion to shareholders in the form of share repurchases and cash dividends. During the first half of fiscal year 2023, we returned $5.54 billion to shareholders in the form of share repurchases and cash dividends. We have $11.93 billion remaining under our share repurchase authorization through December 2023. We plan to continue share repurchases this fiscal year.\n",
            "Market Platform Highlights In our Data Center market platform, we announced that NVIDIA Grace superchips are being used to create HGX systems by some of the world’s leading computer makers; unveiled the NVIDIA Quantum Optimized Device Architecture; and provided updates for the NeMo Megatron large language model framework.\n",
            "In our Gaming market platform, we increased the number of GeForce RTX and NVIDIA Studio laptops to 180+ and expanded the GeForce NOW library with 80 additional games bringing the total to over 1,350.\n",
            "In our Professional Visualization market platform, we expanded our partnership with Siemens to enable the industrial metaverse and increase use of AI-driven digital twin technology and announced Omniverse Avatar Cloud Engine.\n",
            "In our Automotive market platform, we announced rollout plans of new model vehicles using the DRIVE Orin compute platform by partners NIO, Li Auto, JIDU, and Human Horizons, as well as Pony.ai’s use of DRIVE Orin across its line of self-driving trucks and robotaxis.\n",
            "Financial Information by Business Segment and Geographic Data Refer to Note 15 of the Notes to Condensed Consolidated Financial Statements for disclosure regarding segment information.\n",
            "Critical Accounting Policies and Estimates Refer to Part II, Item 7, \"Critical Accounting Policies and Estimates\" of our Annual Report on Form 10-K for the fiscal year ended January 30, 2022. There have been no material changes to our Critical Accounting Policies and Estimates.\n",
            "27\n",
            "Results of Operations The following table sets forth, for the periods indicated, certain items in our Condensed Consolidated Statements of Income expressed as a percentage of revenue.\n",
            "Three Months Ended\n",
            "Six Months Ended\n",
            "July 31, 2022\n",
            "August 1, 2021\n",
            "July 31, 2022\n",
            "August 1, 2021\n",
            "Revenue Cost of revenue Gross profit Operating expenses Research and development Sales, general and administrative\n",
            "Acquisition termination cost\n",
            "Total operating expenses Income from operations Interest income Interest expense Other, net\n",
            "Other income (expense), net\n",
            "Income before income tax Income tax expense (benefit) Net income\n",
            "100.0 % 56.5 43.5\n",
            "27.2 8.8 — 36.0 7.5 0.7 (1.0) (0.1) (0.4) 7.1 (2.7) 9.8 %\n",
            "100.0 % 35.2 64.8\n",
            "19.1 8.1 — 27.2 37.6 0.1 (0.9) 0.1 (0.7) 36.9 0.3 36.6 %\n",
            "100.0 % 44.3 55.7\n",
            "23.0 7.9 9.0 39.9 15.8 0.4 (0.9) (0.1) (0.6) 15.2 — 15.2 %\n",
            "100.0 % 35.5 64.5\n",
            "19.7 8.6 — 28.3 36.2 0.1 (0.9) 1.1 0.3 36.5 1.3 35.2 %\n",
            "Revenue Revenue by Reportable Segments\n",
            "Three Months Ended\n",
            "Six Months Ended\n",
            "July 31, 2022\n",
            "August 1, 2021\n",
            "$ Change\n",
            "% Change\n",
            "July 31, 2022\n",
            "August 1, 2021\n",
            "$ Change\n",
            "% Change\n",
            "($ in millions)\n",
            "Graphics Compute & Networking Total\n",
            "$\n",
            "$\n",
            "2,797 $ 3,907 6,704 $\n",
            "3,907 $ 2,600 6,507 $\n",
            "(1,110) 1,307 197\n",
            "(28) % $ 50 % 3 % $\n",
            "7,413 $ 7,579 14,992 $\n",
            "7,358 $ 4,810 12,168 $\n",
            "55 2,769 2,824\n",
            "1 % 58 % 23 %\n",
            "Graphics - The year over year decrease was primarily attributable to lower sell-in of desktop Gaming and Professional Visualization products in the second quarter of fiscal year 2023 reflecting reduced channel partner sales due to macroeconomic headwinds. In addition to reducing sell-in, we implemented pricing programs in Gaming with channel partners to address challenging market conditions that are expected to persist into the third quarter of fiscal year 2023. Revenue on a year-to-date basis was essentially flat as the declines in sales of GeForce GPUs for desktops and SOCs for game consoles were offset by increases in sales of GeForce GPUs for laptops and Professional Visualization products.\n",
            "Compute & Networking - The year-on-year increases were primarily driven by hyperscale customer revenue, which nearly doubled. Vertical industries grew year-on-year. Key workloads driving growth included natural language processing, deep recommenders, autonomous vehicle fleet data processing and training, and cloud graphics. CMP contributed an insignificant amount in the second quarter and first half of fiscal year 2023 compared to $266 million in second quarter and $421 million in the first half of fiscal year 2022.\n",
            "28\n",
            "Concentration of Revenue Revenue from sales to customers outside of the United States accounted for 70% and 74% of total revenue for the second quarter and first half of fiscal year 2023, respectively, and 85% and 86% of total revenue for the second quarter and first half of fiscal year 2022, respectively. Revenue by geographic region is allocated to individual countries based on the location to which the products are initially billed even if the revenue is attributable to end customers in a different location. No customer represented 10% or more of total revenue for the second quarter and first half of fiscal years 2023 or 2022. Data Center revenue included $287 million for orders originally scheduled for delivery primarily in the third quarter that were converted to second-quarter delivery with extended payment terms, while a number of second-quarter orders will be fulfilled in the third quarter given supply chain disruptions. These second quarter of fiscal year 2023 revenue transactions were recognized under our pre-established revenue recognition policy that includes extended payment terms conditions.\n",
            "Gross Margin Our overall gross margin decreased to 43.5% and 55.7% for the second quarter and first half of fiscal year 2023, respectively, from 64.8% and 64.5% for the second quarter and first half of fiscal year 2022, respectively. These decreases were primarily due to a $1.34 billion charge in the second quarter of fiscal year 2023, comprised of $1.22 billion for inventory and related reserves, primarily relating to Data Center and Gaming, and $122 million for warranty reserves. The inventory and related reserves consist of approximately $570 million for inventory on hand and approximately $650 million for inventory purchase obligations in excess of our current demand projections, and cancellation and underutilization penalties. The warranty reserve is primarily due to a defect that was identified in a third-party component embedded in certain Data Center products. Inventory provisions totaled $1.22 billion and $73 million for the second quarter of fiscal years 2023 and 2022, respectively. Sales of inventory that was previously written-off or down totaled $23 million and $20 million for the second quarter of fiscal years 2023 and 2022, respectively. As a result, the overall net effect on our gross margin was an unfavorable impact of 17.8% and 0.8% in the second quarter of fiscal years 2023 and 2022, respectively.\n",
            "Inventory provisions totaled $1.31 billion and $131 million for the first half of fiscal years 2023 and 2022, respectively. Sales of inventory that was previously written-off or down totaled $38 million and $41 million for the first half of fiscal years 2023 and 2022, respectively. As a result, the overall net effect on our gross margin was an unfavorable impact of 8.5% and 0.7% in the first half of fiscal years 2023 and 2022, respectively.\n",
            "Graphics - The gross margin of our Graphics segment decreased during the second quarter and first half of fiscal year 2023 compared to the second quarter and first half of fiscal year 2022, primarily due to inventory and related reserves. In addition, we implemented pricing programs with Gaming channel partners to address challenging market conditions, which reduced gross margin. Compute & Networking - The gross margin of our Compute & Networking segment decreased during the second quarter and first half of fiscal year 2023 compared to the second quarter and first half of fiscal year 2022, primarily due to inventory related and warranty reserves.\n",
            "29\n",
            "Operating Expenses\n",
            "Three Months Ended\n",
            "Six Months Ended\n",
            "July 31, 2022\n",
            "August 1, 2021\n",
            "$ Change\n",
            "% Change\n",
            "July 31, 2022\n",
            "August 1, 2021\n",
            "$ Change\n",
            "% Change\n",
            "Research and development expenses % of net revenue Sales, general and administrative expenses % of net revenue Acquisition termination cost % of net revenue\n",
            "$\n",
            "1,824\n",
            "27 % 592\n",
            "9 % — — %\n",
            "$\n",
            "1,245\n",
            "19 % 526\n",
            "8 % — — %\n",
            "$\n",
            "579\n",
            "66\n",
            "—\n",
            "($ in millions) 47 % $\n",
            "13 %\n",
            "— %\n",
            "3,443\n",
            "23 %\n",
            "1,183\n",
            "8 %\n",
            "1,353\n",
            "9 %\n",
            "$\n",
            "2,398\n",
            "20 %\n",
            "1,046\n",
            "9 % — — %\n",
            "$\n",
            "1,045\n",
            "137\n",
            "1,353\n",
            "44 %\n",
            "13 %\n",
            "(100) %\n",
            "Total operating expenses\n",
            "$\n",
            "2,416\n",
            "$\n",
            "1,771\n",
            "$\n",
            "645\n",
            "36 % $\n",
            "5,979\n",
            "$\n",
            "3,444\n",
            "$\n",
            "2,535\n",
            "74 %\n",
            "Research and development expenses increases were primarily driven by compensation-related costs, including for employee growth as well as increases in salaries to support our employees during this high inflationary environment and stock-based compensation, and engineering development costs of new products coming to market. Sales, general and administrative expenses increases were primarily driven by compensation-related costs, including for employee growth as well as increases in salaries to support our employees during this high inflationary environment and stock-based compensation, and infrastructure costs partially offset by lower legal fees. We recorded an acquisition termination cost related to the Arm transaction of $1.35 billion in the first quarter of fiscal year 2023 reflecting the write-off of the prepayment provided at signing in September 2020.\n",
            "Other Income (Expense), Net\n",
            "Three Months Ended\n",
            "Six Months Ended\n",
            "July 31, 2022\n",
            "August 1, 2021\n",
            "$ Change\n",
            "% Change\n",
            "July 31, 2022\n",
            "August 1, 2021\n",
            "$ Change\n",
            "% Change\n",
            "($ in millions)\n",
            "Interest income Interest expense Other, net Total\n",
            "$\n",
            "$\n",
            "46 $ (65) (5) (24) $\n",
            "6 $\n",
            "(60) 4 (50) $\n",
            "40 (5) (9) 26\n",
            "667 % $ 8 % (225) % (52) % $\n",
            "64 $\n",
            "(132) (19) (87) $\n",
            "13 $\n",
            "(113) 138\n",
            "38 $\n",
            "51 (19) (157) (125)\n",
            "392 % 17 % (114) % (329) %\n",
            "Interest income consists of interest earned on cash, cash equivalents and marketable securities. The increase in interest income was primarily due to higher interest rates earned on our investments. Interest expense is primarily comprised of coupon interest and debt discount amortization related to our notes. The increase in expense reflects interest on the $5.00 billion note issued in June 2021. Other, net, consists primarily of realized or unrealized gains and losses from investments in non-affiliated entities and the impact of changes in foreign currency rates. Changes in other, net, compared to the second quarter and first half of fiscal year 2022 were primarily driven by mark-to-market impact from publicly traded equity investments and changes in value from our non-affiliated private investments. Refer to Note 8 of the Notes to Condensed Consolidated Financial Statements for additional information regarding our investments in non-affiliated entities.\n",
            "30\n",
            "Income Taxes We recognized an income tax benefit of $181 million and an income tax expense of $6 million for the second quarter and first half of fiscal year 2023, respectively, and an income tax expense of $20 million and $153 million for the second quarter and first half of fiscal year 2022, respectively. Income tax as a percentage of income before income tax was a benefit of 38.0% for the second quarter of fiscal year 2023, and an expense of 0.3% for the first half of fiscal year 2023, and an expense of 0.9% and 3.4% for the second quarter and first half of fiscal year 2022, respectively.\n",
            "The decrease in our effective tax rate for the second quarter and first half of fiscal year 2023 as compared to the same periods of fiscal year 2022 was primarily due to the increased tax benefit of stock-based compensation, the foreign-derived intangible income deduction, and the U.S. federal research tax credit, relative to a reduction in expected profitability. This is partially offset by the impact of an increase in the proportion of earnings subject to U.S. tax in fiscal year 2023 and the one-time discrete benefit from re-valuing certain deferred tax assets in connection with the Domestication in fiscal year 2022.\n",
            "Liquidity and Capital Resources\n",
            "July 31, 2022\n",
            "January 30, 2022\n",
            "(In millions)\n",
            "Cash and cash equivalents Marketable securities Cash, cash equivalents and marketable securities\n",
            "$\n",
            "$\n",
            "3,013 $ 14,024 17,037 $\n",
            "1,990 19,218 21,208\n",
            "Six Months Ended\n",
            "July 31, 2022\n",
            "August 1, 2021\n",
            "(In millions)\n",
            "Net cash provided by operating activities Net cash provided by (used in) investing activities Net cash provided by (used in) financing activities\n",
            "$ $ $\n",
            "3,001 $ 4,230 $ (6,208) $\n",
            "4,556 (3,805) 4,030\n",
            "As of July 31, 2022, we had $17.04 billion in cash, cash equivalents and marketable securities, a decrease of $4.17 billion from the end of fiscal year 2022. Our investment policy requires the purchase of highly rated fixed income securities, the diversification of investment types and credit exposures, and certain maturity limits on our portfolio.\n",
            "Cash provided by operating activities decreased in the first half of fiscal year 2023 compared to the first half of fiscal year 2022, primarily due to advance payments on supply agreements, tax payments, and a decrease in net income adjusted for certain non-cash items, such as the Arm acquisition termination cost of $1.35 billion, partially offset by changes in working capital. Cash provided by investing activities increased in the first half of fiscal year 2023 compared to cash used in the first half of fiscal year 2022, primarily driven by higher marketable securities sales and maturities and lower purchases of marketable securities. Cash used in financing activities decreased in the first half of fiscal year 2023 compared to the first half of fiscal year 2022, which primarily reflects share repurchases and the absence of debt issuance in the first half of fiscal year 2023. Liquidity\n",
            "Our primary sources of liquidity are our cash and cash equivalents, our marketable securities, and the cash generated by our operations. As of July 31, 2022, we had $17.04 billion in cash, cash equivalents, and marketable securities. Our marketable securities consist of debt securities issued by the U.S. government and its agencies, highly rated corporations and financial institutions, and foreign government entities, as well as certificates of deposit issued by highly rated financial institutions. These marketable securities are primarily denominated in U.S. dollars. Refer to Note 7 of the Notes to Condensed Consolidated Financial Statements for additional information. We believe that we have sufficient liquidity to meet our operating requirements for at least the next twelve months, and for the foreseeable future, including our future supply obligations. We continuously evaluate our liquidity and capital resources, including our access to external capital, to ensure we can finance our future capital requirements.\n",
            "31\n",
            "For fiscal year 2023, we expect to use our existing cash and cash equivalents, our marketable securities, and the cash generated by our operations to fund our capital investments of approximately $1.80 billion to $2.00 billion related to property and equipment.\n",
            "We have approximately $1.38 billion of cash, cash equivalents, and marketable securities held outside the U.S. for which we have not accrued any related foreign or state taxes if we repatriate these amounts to the U.S. Other than that, substantially all of our cash, cash equivalents and marketable securities held outside of the U.S. as of July 31, 2022 are available for use in the U.S. without incurring additional U.S. federal income taxes. We utilized almost all of our accumulated U.S. federal research tax credits during fiscal year 2022, which has resulted in higher cash tax payments starting in fiscal year 2023. In addition, beginning in fiscal year 2023, the 2017 Tax Cuts and Jobs Act requires taxpayers to capitalize research and development expenditures and to amortize domestic expenditures over five years and foreign expenditures over fifteen years. This will impact cash flows from operations and will result in significantly higher cash tax payments starting in fiscal year 2023.\n",
            "Capital Return to Shareholders During the second quarter and first half of fiscal year 2023, we returned $3.35 billion and $5.34 billion, respectively, in share repurchases and $100 million and $200 million, respectively, in cash dividends.\n",
            "Our cash dividend program and the payment of future cash dividends under that program are subject to the continuing determination by our Board of Directors that the dividend program and the declaration of dividends are in the best interests of our shareholders.\n",
            "Outstanding Indebtedness and Commercial Paper\n",
            "As of July 31, 2022, we had outstanding: $1.25 billion of Notes Due 2023; $1.25 billion of Notes Due 2024; $1.00 billion of Notes Due 2026; $1.25 billion of Notes Due 2028; $1.50 billion of Notes Due 2030; $1.25 billion of Notes Due 2031; $1.00 billion of Notes Due 2040; $2.00 billion of Notes Due 2050; and $500 million of Notes Due 2060.\n",
            "• • • • • • • •\n",
            "We have a $575 million commercial paper program to support general corporate purposes. As of July 31, 2022, we had not issued any commercial paper. Contractual Obligations We have unrecognized tax benefits of $834 million, which includes related interest and penalties of $72 million recorded in non-current income tax payable as of July 31, 2022. We are unable to reasonably estimate the timing of any potential tax liability, interest payments, or penalties in individual years due to uncertainties in the underlying income tax positions and the timing of the effective settlement of such tax positions. We are currently under examination by the Internal Revenue Service for our fiscal years 2018 and 2019. Refer to Note 6 of the Notes to Condensed Consolidated Financial Statements for further information. Other than the contractual obligations described above, there were no material changes outside the ordinary course of business in our contractual obligations from those disclosed in our Annual Report on Form 10-K for the fiscal year ended January 30, 2022. Refer to Item 7, “Management’s Discussion and Analysis of Financial Condition and Results of Operations - Liquidity and Capital Resources” in our Annual Report on Form 10-K for the fiscal year ended January 30, 2022 for a description of our contractual obligations. For a description of our operating lease obligations, long-term debt, and purchase obligations, refer to Note 3, Note 12, and Note 13 of the Notes to Condensed Consolidated Financial Statements, respectively.\n",
            "32\n",
            "Climate Change To date, there has been no material impact to our results of operations associated with global sustainability regulations, compliance, costs from sourcing renewable energy or climate-related business trends. There are no material current climate change regulations impacting us, however, we are monitoring potential regulation changes in California, the United States, the United Kingdom, the European Union and other jurisdictions. We believe that climate change has not had a material impact to our revenue to date. We have not experienced any significant physical effects of climate change to date on our operations and results, nor any significant impacts on the cost or availability of insurance.\n",
            "Adoption of New and Recently Issued Accounting Pronouncements Refer to Note 1 of the Notes to Condensed Consolidated Financial Statements for a discussion of adoption of a new and recently issued accounting pronouncement.<\n"
          ]
        }
      ]
    },
    {
      "cell_type": "code",
      "source": [
        "import io\n",
        "import os\n",
        "import pandas as pd\n",
        "\n",
        "from llama_index.langchain_helpers.text_splitter import SentenceSplitter\n",
        "from llama_index import Document, set_global_tokenizer\n",
        "from transformers import AutoTokenizer\n",
        "from typing import Iterator\n",
        "from pyspark.sql.functions import col, udf, length, pandas_udf, explode\n",
        "from unstructured.partition.auto import partition\n",
        "\n",
        "\n",
        "@pandas_udf(\"array<string>\")\n",
        "def read_as_chunk(batch_iter: Iterator[pd.Series]) -> Iterator[pd.Series]:\n",
        "    #set llama2 as tokenizer\n",
        "    set_global_tokenizer(\n",
        "      AutoTokenizer.from_pretrained(\"hf-internal-testing/llama-tokenizer\")\n",
        "    )\n",
        "    #Sentence splitter from llama_index to split on sentences\n",
        "    splitter = SentenceSplitter(chunk_size=500, chunk_overlap=50)\n",
        "    def extract_and_split(b):\n",
        "      txt = extract_doc_text(b)\n",
        "      nodes = splitter.get_nodes_from_documents([Document(text=txt)])\n",
        "      return [n.text for n in nodes]\n",
        "\n",
        "    for x in batch_iter:\n",
        "        yield x.apply(extract_and_split)"
      ],
      "metadata": {
        "id": "j-G8X6PxmJYw"
      },
      "execution_count": 16,
      "outputs": []
    },
    {
      "cell_type": "code",
      "source": [
        "df_chunks = (df\n",
        "                .withColumn(\"content\", explode(read_as_chunk(\"content\")))\n",
        "                .selectExpr('path as pdf_name', 'content')\n",
        "                )\n",
        "display(df_chunks)"
      ],
      "metadata": {
        "colab": {
          "base_uri": "https://localhost:8080/",
          "height": 34
        },
        "id": "mX2hmHhJokEy",
        "outputId": "a85b84b1-aae3-426f-e8c5-672a7d176efe"
      },
      "execution_count": 17,
      "outputs": [
        {
          "output_type": "display_data",
          "data": {
            "text/plain": [
              "DataFrame[pdf_name: string, content: string]"
            ]
          },
          "metadata": {}
        }
      ]
    },
    {
      "cell_type": "code",
      "source": [
        "df_chunks.show()"
      ],
      "metadata": {
        "colab": {
          "base_uri": "https://localhost:8080/"
        },
        "id": "JGbtOP1Qothx",
        "outputId": "96222a2b-c200-435b-f449-d83fad8ee980"
      },
      "execution_count": 18,
      "outputs": [
        {
          "output_type": "stream",
          "name": "stdout",
          "text": [
            "+--------------------+--------------------+\n",
            "|            pdf_name|             content|\n",
            "+--------------------+--------------------+\n",
            "|file:/content/pdf...|=\"i6311855089984a...|\n",
            "|file:/content/pdf...|All references to...|\n",
            "|file:/content/pdf...|Hopper architectu...|\n",
            "|file:/content/pdf...|The computing ind...|\n",
            "|file:/content/pdf...|In July 2023, the...|\n",
            "|file:/content/pdf...|As a percentage o...|\n",
            "|file:/content/pdf...|Our product and s...|\n",
            "|file:/content/pdf...|We have not exper...|\n",
            "|file:/content/pdf...|Data Center reven...|\n",
            "|file:/content/pdf...|We had solid dema...|\n",
            "|file:/content/pdf...|We introduced an ...|\n",
            "|file:/content/pdf...|Financial Informa...|\n",
            "|file:/content/pdf...|4 (0.5) 0.4 1.3 5...|\n",
            "|file:/content/pdf...|084 $\\n14,862 $ 5...|\n",
            "|file:/content/pdf...|Revenue from GPU ...|\n",
            "|file:/content/pdf...|We refer to custo...|\n",
            "|file:/content/pdf...|Gross Profit and ...|\n",
            "|file:/content/pdf...|The net effect on...|\n",
            "|file:/content/pdf...|For fiscal year 2...|\n",
            "|file:/content/pdf...|For fiscal year 2...|\n",
            "+--------------------+--------------------+\n",
            "only showing top 20 rows\n",
            "\n"
          ]
        }
      ]
    },
    {
      "cell_type": "code",
      "source": [
        "df_chunks.write.format('csv').save('chunks')"
      ],
      "metadata": {
        "id": "7XxsN-DtoxMm"
      },
      "execution_count": 19,
      "outputs": []
    },
    {
      "cell_type": "code",
      "source": [],
      "metadata": {
        "id": "Sv4ST3tOOk_k"
      },
      "execution_count": null,
      "outputs": []
    }
  ]
}