{
 "cells": [
  {
   "cell_type": "markdown",
   "id": "4232b356-ff2e-4239-9c09-ddb6b89e64ba",
   "metadata": {},
   "source": [
    "# Información y Programación Financiera, TI, Algoritmos y Ciencia de Datos"
   ]
  },
  {
   "cell_type": "markdown",
   "id": "a42bea29-8f61-4fd4-98ff-08440319afae",
   "metadata": {},
   "source": [
    "Neftalí Valdez\n",
    "\n",
    "<a href=\"http://twitter.com/neftalivldz\" target=\"_blank\">@neftalivldz</a> | <a href=\"mailto:nvaldez@tec.mx\">nvaldez@tec.mx</a>"
   ]
  },
  {
   "cell_type": "code",
   "execution_count": 2,
   "id": "0f39d5ab-cefe-4d23-83e9-d44e05be6a4e",
   "metadata": {},
   "outputs": [
    {
     "name": "stdout",
     "output_type": "stream",
     "text": [
      "Defaulting to user installation because normal site-packages is not writeable\n",
      "Requirement already satisfied: pip in /Users/neftalivaldez/Library/Python/3.9/lib/python/site-packages (24.2)\n",
      "Python 3.11.9\n"
     ]
    }
   ],
   "source": [
    "!pip3 install --upgrade pip\n",
    "!python --version"
   ]
  },
  {
   "cell_type": "code",
   "execution_count": 5,
   "id": "ae407a49-4300-4a75-b64c-f71c4f8cbbcc",
   "metadata": {},
   "outputs": [],
   "source": [
    "#%pip install refinitiv-dataplatform\n",
    "#%pip install matplotlib\n",
    "#%pip install seaborn"
   ]
  },
  {
   "cell_type": "code",
   "execution_count": 1,
   "id": "7922a174-cb34-45e5-b49a-cf60aa24e29f",
   "metadata": {},
   "outputs": [],
   "source": [
    "import refinitiv.dataplatform as rdp\n",
    "import pandas\n",
    "%run ../credentials.ipynb"
   ]
  },
  {
   "cell_type": "code",
   "execution_count": 2,
   "id": "08b8fd4c-06ea-49e7-8b6e-557bd346982f",
   "metadata": {},
   "outputs": [],
   "source": [
    "session = rdp.open_platform_session(\n",
    "    APP_KEY,\n",
    "    rdp.GrantPassword(\n",
    "        username = RDP_LOGIN,\n",
    "        password = RDP_PASSWORD\n",
    "    )\n",
    ")"
   ]
  },
  {
   "cell_type": "code",
   "execution_count": 3,
   "id": "970c18a5-84ef-4d4c-905b-50b2ef6d8cda",
   "metadata": {},
   "outputs": [
    {
     "data": {
      "text/plain": [
       "<refinitiv.data.session.Definition object at 0x7f484ac064c0 {name='codebook'}>"
      ]
     },
     "execution_count": 3,
     "metadata": {},
     "output_type": "execute_result"
    }
   ],
   "source": [
    "rd.open_session()"
   ]
  },
  {
   "cell_type": "code",
   "execution_count": null,
   "id": "8e6a41e0-1c14-4e8a-828f-f5473fbcb0a4",
   "metadata": {},
   "outputs": [],
   "source": [
    "import pandas as pd\n",
    "import numpy as np\n",
    "import matplotlib.pyplot as plt\n",
    "import seaborn as sns\n",
    "import warnings"
   ]
  },
  {
   "cell_type": "code",
   "execution_count": 9,
   "id": "718de62a-a718-4b0d-a991-754261a7f098",
   "metadata": {},
   "outputs": [
    {
     "data": {
      "text/plain": [
       "['Solarize_Light2',\n",
       " '_classic_test_patch',\n",
       " '_mpl-gallery',\n",
       " '_mpl-gallery-nogrid',\n",
       " 'bmh',\n",
       " 'classic',\n",
       " 'dark_background',\n",
       " 'fast',\n",
       " 'fivethirtyeight',\n",
       " 'ggplot',\n",
       " 'grayscale',\n",
       " 'seaborn-v0_8',\n",
       " 'seaborn-v0_8-bright',\n",
       " 'seaborn-v0_8-colorblind',\n",
       " 'seaborn-v0_8-dark',\n",
       " 'seaborn-v0_8-dark-palette',\n",
       " 'seaborn-v0_8-darkgrid',\n",
       " 'seaborn-v0_8-deep',\n",
       " 'seaborn-v0_8-muted',\n",
       " 'seaborn-v0_8-notebook',\n",
       " 'seaborn-v0_8-paper',\n",
       " 'seaborn-v0_8-pastel',\n",
       " 'seaborn-v0_8-poster',\n",
       " 'seaborn-v0_8-talk',\n",
       " 'seaborn-v0_8-ticks',\n",
       " 'seaborn-v0_8-white',\n",
       " 'seaborn-v0_8-whitegrid',\n",
       " 'tableau-colorblind10']"
      ]
     },
     "execution_count": 9,
     "metadata": {},
     "output_type": "execute_result"
    }
   ],
   "source": [
    "plt.style.available"
   ]
  },
  {
   "cell_type": "code",
   "execution_count": 11,
   "id": "c0232233-c59e-48ff-ab31-1f7e69e79d6a",
   "metadata": {},
   "outputs": [],
   "source": [
    "%matplotlib inline\n",
    "plt.style.use('seaborn-v0_8-dark-palette')\n",
    "warnings.filterwarnings('ignore')"
   ]
  },
  {
   "cell_type": "markdown",
   "id": "7ab47795-c7ec-41de-9660-a4d6cd514e01",
   "metadata": {},
   "source": [
    "### Numpy"
   ]
  },
  {
   "cell_type": "code",
   "execution_count": 12,
   "id": "a9e6008f-597c-4444-bc9a-4c6addcee97b",
   "metadata": {},
   "outputs": [
    {
     "name": "stdout",
     "output_type": "stream",
     "text": [
      "Array is of type:  <class 'numpy.ndarray'>\n",
      "No. of dimensions:  2\n",
      "Shape of array:  (2, 3)\n",
      "Size of array:  6\n",
      "Array stores elements of type:  int64\n"
     ]
    }
   ],
   "source": [
    "# Python program to demonstrate\n",
    "# basic array characteristics\n",
    "import numpy as np\n",
    " \n",
    "# Creating array object\n",
    "arr = np.array( [[ 1, 2, 3],\n",
    "                 [ 4, 2, 5]] )\n",
    " \n",
    "# Printing type of arr object\n",
    "print(\"Array is of type: \", type(arr))\n",
    " \n",
    "# Printing array dimensions (axes)\n",
    "print(\"No. of dimensions: \", arr.ndim)\n",
    " \n",
    "# Printing shape of array\n",
    "print(\"Shape of array: \", arr.shape)\n",
    " \n",
    "# Printing size (total number of elements) of array\n",
    "print(\"Size of array: \", arr.size)\n",
    " \n",
    "# Printing type of elements in array\n",
    "print(\"Array stores elements of type: \", arr.dtype)"
   ]
  },
  {
   "cell_type": "markdown",
   "id": "b15ef208-be21-458b-b9e6-b7aff41ee338",
   "metadata": {},
   "source": [
    "## Python Pandas"
   ]
  },
  {
   "cell_type": "code",
   "execution_count": 13,
   "id": "0397628c-b21f-48a3-976c-f1969e658ecf",
   "metadata": {},
   "outputs": [
    {
     "data": {
      "text/html": [
       "<div>\n",
       "<style scoped>\n",
       "    .dataframe tbody tr th:only-of-type {\n",
       "        vertical-align: middle;\n",
       "    }\n",
       "\n",
       "    .dataframe tbody tr th {\n",
       "        vertical-align: top;\n",
       "    }\n",
       "\n",
       "    .dataframe thead th {\n",
       "        text-align: right;\n",
       "    }\n",
       "</style>\n",
       "<table border=\"1\" class=\"dataframe\">\n",
       "  <thead>\n",
       "    <tr style=\"text-align: right;\">\n",
       "      <th></th>\n",
       "      <th>sesion</th>\n",
       "      <th>asistencia</th>\n",
       "    </tr>\n",
       "  </thead>\n",
       "  <tbody>\n",
       "    <tr>\n",
       "      <th>0</th>\n",
       "      <td>420</td>\n",
       "      <td>25</td>\n",
       "    </tr>\n",
       "    <tr>\n",
       "      <th>1</th>\n",
       "      <td>380</td>\n",
       "      <td>20</td>\n",
       "    </tr>\n",
       "    <tr>\n",
       "      <th>2</th>\n",
       "      <td>390</td>\n",
       "      <td>27</td>\n",
       "    </tr>\n",
       "  </tbody>\n",
       "</table>\n",
       "</div>"
      ],
      "text/plain": [
       "   sesion  asistencia\n",
       "0     420          25\n",
       "1     380          20\n",
       "2     390          27"
      ]
     },
     "execution_count": 13,
     "metadata": {},
     "output_type": "execute_result"
    }
   ],
   "source": [
    "import pandas as pd \n",
    "\n",
    "data = {\n",
    "  \"sesion\": [420, 380, 390],\n",
    "  \"asistencia\": [25, 20, 27]\n",
    "}\n",
    "\n",
    "#load data into a DataFrame object:\n",
    "df = pd.DataFrame(data)\n",
    "\n",
    "df"
   ]
  },
  {
   "cell_type": "code",
   "execution_count": 14,
   "id": "a5608cde-a75e-45b1-9dcf-9b234dd486dd",
   "metadata": {},
   "outputs": [
    {
     "name": "stdout",
     "output_type": "stream",
     "text": [
      "sesion        390\n",
      "asistencia     27\n",
      "Name: 2, dtype: int64\n"
     ]
    }
   ],
   "source": [
    "#utilización de índice:\n",
    "print(df.loc[2])"
   ]
  },
  {
   "cell_type": "code",
   "execution_count": 15,
   "id": "944b54e0-79ae-43c5-8d89-f462ae936b0a",
   "metadata": {},
   "outputs": [
    {
     "data": {
      "text/html": [
       "<div>\n",
       "<style scoped>\n",
       "    .dataframe tbody tr th:only-of-type {\n",
       "        vertical-align: middle;\n",
       "    }\n",
       "\n",
       "    .dataframe tbody tr th {\n",
       "        vertical-align: top;\n",
       "    }\n",
       "\n",
       "    .dataframe thead th {\n",
       "        text-align: right;\n",
       "    }\n",
       "</style>\n",
       "<table border=\"1\" class=\"dataframe\">\n",
       "  <thead>\n",
       "    <tr style=\"text-align: right;\">\n",
       "      <th></th>\n",
       "      <th>sesion</th>\n",
       "      <th>asistencia</th>\n",
       "    </tr>\n",
       "  </thead>\n",
       "  <tbody>\n",
       "    <tr>\n",
       "      <th>dia1</th>\n",
       "      <td>420</td>\n",
       "      <td>25</td>\n",
       "    </tr>\n",
       "    <tr>\n",
       "      <th>dia2</th>\n",
       "      <td>380</td>\n",
       "      <td>20</td>\n",
       "    </tr>\n",
       "    <tr>\n",
       "      <th>dia3</th>\n",
       "      <td>390</td>\n",
       "      <td>27</td>\n",
       "    </tr>\n",
       "  </tbody>\n",
       "</table>\n",
       "</div>"
      ],
      "text/plain": [
       "      sesion  asistencia\n",
       "dia1     420          25\n",
       "dia2     380          20\n",
       "dia3     390          27"
      ]
     },
     "execution_count": 15,
     "metadata": {},
     "output_type": "execute_result"
    }
   ],
   "source": [
    "df = pd.DataFrame(data, index = [\"dia1\", \"dia2\", \"dia3\"])\n",
    "df "
   ]
  },
  {
   "cell_type": "markdown",
   "id": "4313839d-5902-47a9-bd8c-366113240171",
   "metadata": {},
   "source": [
    "# Refinitiv Python"
   ]
  },
  {
   "cell_type": "markdown",
   "id": "95547c8b-b4e9-4dab-9960-a28b9eefc355",
   "metadata": {},
   "source": [
    "# Extracción de datos estructurados"
   ]
  },
  {
   "cell_type": "markdown",
   "id": "c758c6dd-fb5a-482f-ba92-a78b16669b5e",
   "metadata": {},
   "source": [
    "Las funciones básicas para extraer datos de eikon son las siguiente:\n",
    "- get_symbology\n",
    "- get_data\n",
    "- get_timeseries\n",
    "\n",
    "get_symbology(symbol, from_symbol_type='RIC', to_symbol_type=None, raw_output=False, debug=False, bestMatch=True)\n",
    "Devuelve una lista de nombre de instrumentos convertiods en el código del intrumento.\n",
    "\n",
    "get_data(instruments, fields, parameters=None, field_name=False, raw_output=False, debug=False)\n",
    "Devuelve un dataframe de pandas con campos en columnas e intrumentos como índice de renglones.\n",
    "\n",
    "get_timeseries(rics, fields='*', start_date=None, end_date=None, interval='daily', count=None, calendar=None, corax=None, normalize=False, raw_output=False, debug=False)\n",
    "Devuelve series históricas de uno o varios RICs.\n",
    "<br>\n",
    "Referencia: https://docs-developers.refinitiv.com/1594387995587/14684/book/en/eikon/index.html\n",
    "RICs Reuters instrument code"
   ]
  },
  {
   "cell_type": "markdown",
   "id": "01d0170e-4b5c-45d8-8d42-e55b69c0c67a",
   "metadata": {},
   "source": [
    "# Obtener datos"
   ]
  },
  {
   "cell_type": "code",
   "execution_count": 69,
   "id": "deb5986c-36f6-44ef-a541-914855ae46f5",
   "metadata": {},
   "outputs": [],
   "source": [
    "data = rdp.get_data([\"SPOT.K\", \"IBM\", \"GOOG.O\", \"MSFT.O\"], [\"TR.PriceClose\", \"TR.Volume\", \"TR.PriceLow\", \"TR.TotalReturnYTD\"])"
   ]
  },
  {
   "cell_type": "code",
   "execution_count": 70,
   "id": "82d4ce06-8d68-486f-b022-6833c840f06f",
   "metadata": {},
   "outputs": [
    {
     "data": {
      "text/html": [
       "<div>\n",
       "<style scoped>\n",
       "    .dataframe tbody tr th:only-of-type {\n",
       "        vertical-align: middle;\n",
       "    }\n",
       "\n",
       "    .dataframe tbody tr th {\n",
       "        vertical-align: top;\n",
       "    }\n",
       "\n",
       "    .dataframe thead th {\n",
       "        text-align: right;\n",
       "    }\n",
       "</style>\n",
       "<table border=\"1\" class=\"dataframe\">\n",
       "  <thead>\n",
       "    <tr style=\"text-align: right;\">\n",
       "      <th></th>\n",
       "      <th>instrument</th>\n",
       "      <th>TR.PriceClose</th>\n",
       "      <th>TR.Volume</th>\n",
       "      <th>TR.PriceLow</th>\n",
       "      <th>YTD Total Return</th>\n",
       "    </tr>\n",
       "  </thead>\n",
       "  <tbody>\n",
       "    <tr>\n",
       "      <th>0</th>\n",
       "      <td>SPOT.K</td>\n",
       "      <td>340.36</td>\n",
       "      <td>918955</td>\n",
       "      <td>336.51</td>\n",
       "      <td>81.1292640081666</td>\n",
       "    </tr>\n",
       "    <tr>\n",
       "      <th>1</th>\n",
       "      <td>IBM</td>\n",
       "      <td>189.48</td>\n",
       "      <td>2290421</td>\n",
       "      <td>189.0001</td>\n",
       "      <td>19.1016840561948</td>\n",
       "    </tr>\n",
       "    <tr>\n",
       "      <th>2</th>\n",
       "      <td>GOOG.O</td>\n",
       "      <td>163.95</td>\n",
       "      <td>12434969</td>\n",
       "      <td>163.55</td>\n",
       "      <td>16.4660769855608</td>\n",
       "    </tr>\n",
       "    <tr>\n",
       "      <th>3</th>\n",
       "      <td>MSFT.O</td>\n",
       "      <td>406.81</td>\n",
       "      <td>16762883</td>\n",
       "      <td>404.2434</td>\n",
       "      <td>8.57290985561807</td>\n",
       "    </tr>\n",
       "  </tbody>\n",
       "</table>\n",
       "</div>"
      ],
      "text/plain": [
       "  instrument TR.PriceClose TR.Volume TR.PriceLow  YTD Total Return\n",
       "0     SPOT.K        340.36    918955      336.51  81.1292640081666\n",
       "1        IBM        189.48   2290421    189.0001  19.1016840561948\n",
       "2     GOOG.O        163.95  12434969      163.55  16.4660769855608\n",
       "3     MSFT.O        406.81  16762883    404.2434  8.57290985561807"
      ]
     },
     "execution_count": 70,
     "metadata": {},
     "output_type": "execute_result"
    }
   ],
   "source": [
    "data"
   ]
  },
  {
   "cell_type": "code",
   "execution_count": 71,
   "id": "183fbb0c-72b7-48e0-a4fb-0010b3f3484b",
   "metadata": {},
   "outputs": [
    {
     "data": {
      "text/plain": [
       "pandas.core.frame.DataFrame"
      ]
     },
     "execution_count": 71,
     "metadata": {},
     "output_type": "execute_result"
    }
   ],
   "source": [
    "type(data)"
   ]
  },
  {
   "cell_type": "code",
   "execution_count": 72,
   "id": "40eb550b-8816-4722-bfa5-e52d81941633",
   "metadata": {},
   "outputs": [
    {
     "data": {
      "text/plain": [
       "RangeIndex(start=0, stop=4, step=1)"
      ]
     },
     "execution_count": 72,
     "metadata": {},
     "output_type": "execute_result"
    }
   ],
   "source": [
    "data.index"
   ]
  },
  {
   "cell_type": "markdown",
   "id": "3212539b-53c4-46db-8f3a-d20c7e1af21d",
   "metadata": {},
   "source": [
    "# Obtener datos de un índice"
   ]
  },
  {
   "cell_type": "code",
   "execution_count": 73,
   "id": "7e7ae6a9-aa87-4407-8b20-1ad086543e10",
   "metadata": {},
   "outputs": [],
   "source": [
    "dax = rdp.get_data('0#.GDAXI', fields=['TR.CommonName', 'TR.PriceClose',\n",
    "                                      'TR.Volume', 'TR.TotalReturnYTD'])"
   ]
  },
  {
   "cell_type": "code",
   "execution_count": 74,
   "id": "4246159f-be23-454e-a236-4e53fe7bfb1d",
   "metadata": {},
   "outputs": [
    {
     "data": {
      "text/plain": [
       "instrument          string[python]\n",
       "TR.CommonName       string[python]\n",
       "TR.PriceClose       string[python]\n",
       "TR.Volume           string[python]\n",
       "YTD Total Return    string[python]\n",
       "dtype: object"
      ]
     },
     "execution_count": 74,
     "metadata": {},
     "output_type": "execute_result"
    }
   ],
   "source": [
    "dax.dtypes"
   ]
  },
  {
   "cell_type": "code",
   "execution_count": 75,
   "id": "030c9f36-6a5d-42c5-9335-582b055953a7",
   "metadata": {},
   "outputs": [],
   "source": [
    "dax['TR.PriceClose'] = dax['TR.PriceClose'].astype(float)\n",
    "dax['TR.Volume'] = dax['TR.Volume'].astype(int)\n",
    "dax['YTD Total Return'] = dax['YTD Total Return'].astype(float)"
   ]
  },
  {
   "cell_type": "code",
   "execution_count": 76,
   "id": "e3b20719-11d5-4f85-bc52-ea73e590c9fa",
   "metadata": {},
   "outputs": [],
   "source": [
    "dax2 = dax.set_index('instrument')['YTD Total Return'].sort_values().to_frame()\n",
    "dax2.columns = [c.replace(' ', '_') for c in dax2.columns]"
   ]
  },
  {
   "cell_type": "code",
   "execution_count": 77,
   "id": "838ec6f4-b97f-410a-8a36-b09412413b19",
   "metadata": {},
   "outputs": [
    {
     "data": {
      "text/plain": [
       "YTD_Total_Return    float64\n",
       "dtype: object"
      ]
     },
     "execution_count": 77,
     "metadata": {},
     "output_type": "execute_result"
    }
   ],
   "source": [
    "dax2.dtypes"
   ]
  },
  {
   "cell_type": "code",
   "execution_count": 78,
   "id": "49a2a6b3-b730-43b8-8ffd-0da5dc9e156b",
   "metadata": {},
   "outputs": [
    {
     "data": {
      "text/html": [
       "<div>\n",
       "<style scoped>\n",
       "    .dataframe tbody tr th:only-of-type {\n",
       "        vertical-align: middle;\n",
       "    }\n",
       "\n",
       "    .dataframe tbody tr th {\n",
       "        vertical-align: top;\n",
       "    }\n",
       "\n",
       "    .dataframe thead th {\n",
       "        text-align: right;\n",
       "    }\n",
       "</style>\n",
       "<table border=\"1\" class=\"dataframe\">\n",
       "  <thead>\n",
       "    <tr style=\"text-align: right;\">\n",
       "      <th></th>\n",
       "      <th>YTD_Total_Return</th>\n",
       "    </tr>\n",
       "    <tr>\n",
       "      <th>instrument</th>\n",
       "      <th></th>\n",
       "    </tr>\n",
       "  </thead>\n",
       "  <tbody>\n",
       "    <tr>\n",
       "      <th>SATG_p.DE</th>\n",
       "      <td>-27.490774</td>\n",
       "    </tr>\n",
       "    <tr>\n",
       "      <th>BAYGn.DE</th>\n",
       "      <td>-22.499253</td>\n",
       "    </tr>\n",
       "    <tr>\n",
       "      <th>BNRGn.DE</th>\n",
       "      <td>-20.837128</td>\n",
       "    </tr>\n",
       "    <tr>\n",
       "      <th>CONG.DE</th>\n",
       "      <td>-20.717352</td>\n",
       "    </tr>\n",
       "    <tr>\n",
       "      <th>IFXGn.DE</th>\n",
       "      <td>-19.050326</td>\n",
       "    </tr>\n",
       "    <tr>\n",
       "      <th>RWEG.DE</th>\n",
       "      <td>-18.991301</td>\n",
       "    </tr>\n",
       "    <tr>\n",
       "      <th>BMWG.DE</th>\n",
       "      <td>-16.756589</td>\n",
       "    </tr>\n",
       "    <tr>\n",
       "      <th>DHLn.DE</th>\n",
       "      <td>-15.783306</td>\n",
       "    </tr>\n",
       "    <tr>\n",
       "      <th>P911_p.DE</th>\n",
       "      <td>-15.217242</td>\n",
       "    </tr>\n",
       "    <tr>\n",
       "      <th>PSHG_p.DE</th>\n",
       "      <td>-12.313643</td>\n",
       "    </tr>\n",
       "    <tr>\n",
       "      <th>VOWG_p.DE</th>\n",
       "      <td>-9.751037</td>\n",
       "    </tr>\n",
       "    <tr>\n",
       "      <th>BASFn.DE</th>\n",
       "      <td>-9.482179</td>\n",
       "    </tr>\n",
       "    <tr>\n",
       "      <th>BEIG.DE</th>\n",
       "      <td>-7.540783</td>\n",
       "    </tr>\n",
       "    <tr>\n",
       "      <th>SIEGn.DE</th>\n",
       "      <td>-4.858904</td>\n",
       "    </tr>\n",
       "    <tr>\n",
       "      <th>AIRG.DE</th>\n",
       "      <td>-2.865629</td>\n",
       "    </tr>\n",
       "    <tr>\n",
       "      <th>SHLG.DE</th>\n",
       "      <td>-2.623050</td>\n",
       "    </tr>\n",
       "    <tr>\n",
       "      <th>MBGn.DE</th>\n",
       "      <td>-0.979828</td>\n",
       "    </tr>\n",
       "    <tr>\n",
       "      <th>DB1Gn.DE</th>\n",
       "      <td>1.369643</td>\n",
       "    </tr>\n",
       "    <tr>\n",
       "      <th>DTGGe.DE</th>\n",
       "      <td>1.727491</td>\n",
       "    </tr>\n",
       "    <tr>\n",
       "      <th>1COV.DE</th>\n",
       "      <td>2.012149</td>\n",
       "    </tr>\n",
       "    <tr>\n",
       "      <th>QIA.DE</th>\n",
       "      <td>4.815257</td>\n",
       "    </tr>\n",
       "    <tr>\n",
       "      <th>VNAn.DE</th>\n",
       "      <td>5.191759</td>\n",
       "    </tr>\n",
       "    <tr>\n",
       "      <th>EONGn.DE</th>\n",
       "      <td>5.673666</td>\n",
       "    </tr>\n",
       "    <tr>\n",
       "      <th>ZALG.DE</th>\n",
       "      <td>6.666667</td>\n",
       "    </tr>\n",
       "    <tr>\n",
       "      <th>HNRGn.DE</th>\n",
       "      <td>8.427141</td>\n",
       "    </tr>\n",
       "    <tr>\n",
       "      <th>HNKG_p.DE</th>\n",
       "      <td>9.886745</td>\n",
       "    </tr>\n",
       "    <tr>\n",
       "      <th>FREG.DE</th>\n",
       "      <td>10.046313</td>\n",
       "    </tr>\n",
       "    <tr>\n",
       "      <th>DBKGn.DE</th>\n",
       "      <td>10.732779</td>\n",
       "    </tr>\n",
       "    <tr>\n",
       "      <th>ALVG.DE</th>\n",
       "      <td>11.309012</td>\n",
       "    </tr>\n",
       "    <tr>\n",
       "      <th>HEIG.DE</th>\n",
       "      <td>11.592361</td>\n",
       "    </tr>\n",
       "    <tr>\n",
       "      <th>SY1G.DE</th>\n",
       "      <td>13.177778</td>\n",
       "    </tr>\n",
       "    <tr>\n",
       "      <th>ADSGn.DE</th>\n",
       "      <td>15.687197</td>\n",
       "    </tr>\n",
       "    <tr>\n",
       "      <th>MRCG.DE</th>\n",
       "      <td>17.416018</td>\n",
       "    </tr>\n",
       "    <tr>\n",
       "      <th>DTEGn.DE</th>\n",
       "      <td>17.828914</td>\n",
       "    </tr>\n",
       "    <tr>\n",
       "      <th>CBKG.DE</th>\n",
       "      <td>18.328739</td>\n",
       "    </tr>\n",
       "    <tr>\n",
       "      <th>MUVGn.DE</th>\n",
       "      <td>21.336253</td>\n",
       "    </tr>\n",
       "    <tr>\n",
       "      <th>MTXGn.DE</th>\n",
       "      <td>33.574701</td>\n",
       "    </tr>\n",
       "    <tr>\n",
       "      <th>SAPG.DE</th>\n",
       "      <td>37.407759</td>\n",
       "    </tr>\n",
       "    <tr>\n",
       "      <th>RHMG.DE</th>\n",
       "      <td>92.347880</td>\n",
       "    </tr>\n",
       "    <tr>\n",
       "      <th>ENR1n.DE</th>\n",
       "      <td>102.083333</td>\n",
       "    </tr>\n",
       "  </tbody>\n",
       "</table>\n",
       "</div>"
      ],
      "text/plain": [
       "            YTD_Total_Return\n",
       "instrument                  \n",
       "SATG_p.DE         -27.490774\n",
       "BAYGn.DE          -22.499253\n",
       "BNRGn.DE          -20.837128\n",
       "CONG.DE           -20.717352\n",
       "IFXGn.DE          -19.050326\n",
       "RWEG.DE           -18.991301\n",
       "BMWG.DE           -16.756589\n",
       "DHLn.DE           -15.783306\n",
       "P911_p.DE         -15.217242\n",
       "PSHG_p.DE         -12.313643\n",
       "VOWG_p.DE          -9.751037\n",
       "BASFn.DE           -9.482179\n",
       "BEIG.DE            -7.540783\n",
       "SIEGn.DE           -4.858904\n",
       "AIRG.DE            -2.865629\n",
       "SHLG.DE            -2.623050\n",
       "MBGn.DE            -0.979828\n",
       "DB1Gn.DE            1.369643\n",
       "DTGGe.DE            1.727491\n",
       "1COV.DE             2.012149\n",
       "QIA.DE              4.815257\n",
       "VNAn.DE             5.191759\n",
       "EONGn.DE            5.673666\n",
       "ZALG.DE             6.666667\n",
       "HNRGn.DE            8.427141\n",
       "HNKG_p.DE           9.886745\n",
       "FREG.DE            10.046313\n",
       "DBKGn.DE           10.732779\n",
       "ALVG.DE            11.309012\n",
       "HEIG.DE            11.592361\n",
       "SY1G.DE            13.177778\n",
       "ADSGn.DE           15.687197\n",
       "MRCG.DE            17.416018\n",
       "DTEGn.DE           17.828914\n",
       "CBKG.DE            18.328739\n",
       "MUVGn.DE           21.336253\n",
       "MTXGn.DE           33.574701\n",
       "SAPG.DE            37.407759\n",
       "RHMG.DE            92.347880\n",
       "ENR1n.DE          102.083333"
      ]
     },
     "execution_count": 78,
     "metadata": {},
     "output_type": "execute_result"
    }
   ],
   "source": [
    "dax2.sort_values(by=['YTD_Total_Return'])"
   ]
  },
  {
   "cell_type": "code",
   "execution_count": 79,
   "id": "3e4a29ad-d22f-46da-aa07-14a693aa1441",
   "metadata": {},
   "outputs": [
    {
     "data": {
      "image/png": "[encoded data removed]",
      "text/plain": [
       "<Figure size 1250x350 with 1 Axes>"
      ]
     },
     "metadata": {},
     "output_type": "display_data"
    }
   ],
   "source": [
    "plt.rcParams[\"figure.figsize\"] = [12.50, 3.50]\n",
    "plt.rcParams[\"figure.autolayout\"] = True\n",
    "\n",
    "dax2 = dax.set_index('instrument')['YTD Total Return'].sort_values().to_frame()\n",
    "dax2.columns = [c.replace(' ', '_') for c in dax2.columns]\n",
    "\n",
    "bar_plot = sns.barplot(x=dax2.index, y=dax2['YTD_Total_Return'], color=\"#4CC9F0\")\n",
    "plt.xticks(rotation=90)\n",
    "plt.show()"
   ]
  },
  {
   "cell_type": "code",
   "execution_count": 80,
   "id": "ca4d9811-74cd-4df1-8173-2f478576d406",
   "metadata": {},
   "outputs": [
    {
     "data": {
      "text/plain": [
       "pandas.core.frame.DataFrame"
      ]
     },
     "execution_count": 80,
     "metadata": {},
     "output_type": "execute_result"
    }
   ],
   "source": [
    "type(dax2)"
   ]
  },
  {
   "cell_type": "code",
   "execution_count": null,
   "id": "dec9f7b5-7041-47ed-be69-aded8ab9ef7b",
   "metadata": {},
   "outputs": [],
   "source": []
  },
  {
   "cell_type": "markdown",
   "id": "50387881-1c23-40ab-94e9-c81741ef0529",
   "metadata": {},
   "source": [
    "### Generen grafico para volumen de menor a mayor DJI"
   ]
  },
  {
   "cell_type": "code",
   "execution_count": 81,
   "id": "8a1c29e1-d9f1-4d56-b37e-93f0049aa22d",
   "metadata": {},
   "outputs": [],
   "source": [
    "lp4 = rdp.get_data('LP40065886', ['TR.FundHoldingRIC','TR.FundHoldingName',\n",
    "                           'TR.FundPercentageOfFundAssets',\n",
    "                           'TR.FundNumberOfShares',\n",
    "                           'TR.FundNumberOfSharesChanged'],\n",
    "            {'Endnum':'5000'})"
   ]
  },
  {
   "cell_type": "code",
   "execution_count": 82,
   "id": "308a0714-f51d-4a14-ba30-6991b6f4cb60",
   "metadata": {},
   "outputs": [],
   "source": [
    "lp4"
   ]
  },
  {
   "cell_type": "code",
   "execution_count": 83,
   "id": "cb165fe1-5495-43c6-b19b-56c070409d15",
   "metadata": {},
   "outputs": [],
   "source": [
    "XLE= rdp.get_data('XLE', ['TR.FundHoldingRIC','TR.FundHoldingName', 'TR.FundPercentageOfFundAssets',\n",
    "                           'TR.FundNumberOfShares', 'TR.FundNumberOfSharesChanged'],\n",
    "            {'Endnum':'5000'})"
   ]
  },
  {
   "cell_type": "code",
   "execution_count": 84,
   "id": "313a4a4a-e81d-47e0-bc12-adf936dbf2dc",
   "metadata": {},
   "outputs": [],
   "source": [
    "XLE"
   ]
  },
  {
   "cell_type": "code",
   "execution_count": 85,
   "id": "0feeff28-fcb3-483d-85d3-d5ba16542a50",
   "metadata": {},
   "outputs": [
    {
     "ename": "AttributeError",
     "evalue": "'NoneType' object has no attribute 'columns'",
     "output_type": "error",
     "traceback": [
      "\u001b[0;31m---------------------------------------------------------------------------\u001b[0m",
      "\u001b[0;31mAttributeError\u001b[0m                            Traceback (most recent call last)",
      "Cell \u001b[0;32mIn[85], line 1\u001b[0m\n\u001b[0;32m----> 1\u001b[0m XLE\u001b[38;5;241m.\u001b[39mcolumns \u001b[38;5;241m=\u001b[39m [c\u001b[38;5;241m.\u001b[39mreplace(\u001b[38;5;124m'\u001b[39m\u001b[38;5;124m \u001b[39m\u001b[38;5;124m'\u001b[39m, \u001b[38;5;124m'\u001b[39m\u001b[38;5;124m_\u001b[39m\u001b[38;5;124m'\u001b[39m) \u001b[38;5;28;01mfor\u001b[39;00m c \u001b[38;5;129;01min\u001b[39;00m \u001b[43mXLE\u001b[49m\u001b[38;5;241;43m.\u001b[39;49m\u001b[43mcolumns\u001b[49m]\n\u001b[1;32m      2\u001b[0m list_values \u001b[38;5;241m=\u001b[39m [\u001b[38;5;124m'\u001b[39m\u001b[38;5;124mUSD CASH\u001b[39m\u001b[38;5;124m'\u001b[39m, \u001b[38;5;124m'\u001b[39m\u001b[38;5;124mOTHER ASSETS LESS LIABILITIES\u001b[39m\u001b[38;5;124m'\u001b[39m]\n\u001b[1;32m      3\u001b[0m XLE[\u001b[38;5;241m~\u001b[39mXLE[\u001b[38;5;124m'\u001b[39m\u001b[38;5;124mHolding_Name\u001b[39m\u001b[38;5;124m'\u001b[39m]\u001b[38;5;241m.\u001b[39misin(list_values)]\n",
      "\u001b[0;31mAttributeError\u001b[0m: 'NoneType' object has no attribute 'columns'"
     ]
    }
   ],
   "source": [
    "XLE.columns = [c.replace(' ', '_') for c in XLE.columns]\n",
    "list_values = ['USD CASH', 'OTHER ASSETS LESS LIABILITIES']\n",
    "XLE[~XLE['Holding_Name'].isin(list_values)]"
   ]
  },
  {
   "cell_type": "code",
   "execution_count": 55,
   "id": "fb98f806-7236-45f8-a5a8-4cb215136825",
   "metadata": {},
   "outputs": [
    {
     "data": {
      "image/png": "[encoded data removed]",
      "text/plain": [
       "<Figure size 1250x350 with 1 Axes>"
      ]
     },
     "metadata": {},
     "output_type": "display_data"
    }
   ],
   "source": [
    "XLE2 = XLE[~XLE['Holding_Name'].isin(list_values)].set_index('Holding_RIC')['Number_of_Shares'].sort_values().to_frame()\n",
    "type(XLE2)\n",
    "bar_plot = sns.barplot(x=XLE2.index, y=XLE2['Number_of_Shares'], color=\"#4CC9F0\")\n",
    "plt.xticks(rotation=90)\n",
    "plt.show()"
   ]
  },
  {
   "cell_type": "code",
   "execution_count": 57,
   "id": "65b389e4-ac5f-4ae3-af4d-f6a8061049fa",
   "metadata": {},
   "outputs": [
    {
     "name": "stdout",
     "output_type": "stream",
     "text": [
      "Help on function get_data in module refinitiv.data._fin_coder_layer.get_data_func:\n",
      "\n",
      "get_data(universe: Union[str, Iterable[str]], fields: Union[str, Iterable[str], NoneType] = None, parameters: Union[str, dict, NoneType] = None, use_field_names_in_headers: bool = False) -> pandas.core.frame.DataFrame\n",
      "    Retrieves pricing snapshots, as well as Fundamental and Reference data.\n",
      "    \n",
      "    Parameters\n",
      "    ----------\n",
      "    universe: str | list\n",
      "        Instruments to request\n",
      "    fields: str | list, optional\n",
      "        Fields to request\n",
      "    parameters: str | dict, optional\n",
      "        Single key=value global parameter or dictionary of global parameters to request\n",
      "    use_field_names_in_headers: bool, default False\n",
      "        If True - returns field name as column headers for data instead of title\n",
      "    \n",
      "    Returns\n",
      "    -------\n",
      "    pandas.DataFrame\n",
      "    \n",
      "    Examples\n",
      "    --------\n",
      "    >>> get_data(universe=['IBM.N', 'VOD.L'], fields=['BID', 'ASK'])\n",
      "    >>> get_data(\n",
      "    ...     universe=['GOOG.O', 'AAPL.O'],\n",
      "    ...     fields=['TR.EV','TR.EVToSales'],\n",
      "    ...     parameters = {'SDate': '0CY', 'Curn': 'CAD'}\n",
      "    ...)\n",
      "\n"
     ]
    }
   ],
   "source": [
    "help(rd.get_data)"
   ]
  },
  {
   "cell_type": "markdown",
   "id": "4934747a-d9b1-4fd4-81e8-1654b3e440ab",
   "metadata": {},
   "source": [
    "# Descargar series de tiempo"
   ]
  },
  {
   "cell_type": "code",
   "execution_count": 59,
   "id": "452def5c-1984-4de9-a73f-c6fd0c878415",
   "metadata": {},
   "outputs": [],
   "source": [
    "#help(rd.get_timeseries)"
   ]
  },
  {
   "cell_type": "code",
   "execution_count": 70,
   "id": "935cb5cb-e5c7-4f91-8529-3dcef57f8cda",
   "metadata": {},
   "outputs": [],
   "source": [
    "df_ts = rd.get_history(universe=[\"000001.SZ\"], fields=[\"BID\", \"ASK\"], interval=\"1D\",\n",
    "               start = \"2016-06-13\", end = \"2016-06-20\")"
   ]
  },
  {
   "cell_type": "code",
   "execution_count": 71,
   "id": "d41fa92c-a2f6-41ca-85dd-897f8d63688d",
   "metadata": {},
   "outputs": [
    {
     "data": {
      "text/html": [
       "<div>\n",
       "<style scoped>\n",
       "    .dataframe tbody tr th:only-of-type {\n",
       "        vertical-align: middle;\n",
       "    }\n",
       "\n",
       "    .dataframe tbody tr th {\n",
       "        vertical-align: top;\n",
       "    }\n",
       "\n",
       "    .dataframe thead th {\n",
       "        text-align: right;\n",
       "    }\n",
       "</style>\n",
       "<table border=\"1\" class=\"dataframe\">\n",
       "  <thead>\n",
       "    <tr style=\"text-align: right;\">\n",
       "      <th>000001.SZ</th>\n",
       "      <th>BID</th>\n",
       "      <th>ASK</th>\n",
       "    </tr>\n",
       "    <tr>\n",
       "      <th>Date</th>\n",
       "      <th></th>\n",
       "      <th></th>\n",
       "    </tr>\n",
       "  </thead>\n",
       "  <tbody>\n",
       "    <tr>\n",
       "      <th>2016-06-14</th>\n",
       "      <td>8.65833</td>\n",
       "      <td>8.666663</td>\n",
       "    </tr>\n",
       "    <tr>\n",
       "      <th>2016-06-15</th>\n",
       "      <td>8.699997</td>\n",
       "      <td>8.70833</td>\n",
       "    </tr>\n",
       "    <tr>\n",
       "      <th>2016-06-16</th>\n",
       "      <td>8.57</td>\n",
       "      <td>8.58</td>\n",
       "    </tr>\n",
       "    <tr>\n",
       "      <th>2016-06-17</th>\n",
       "      <td>8.57</td>\n",
       "      <td>8.58</td>\n",
       "    </tr>\n",
       "    <tr>\n",
       "      <th>2016-06-20</th>\n",
       "      <td>8.59</td>\n",
       "      <td>8.6</td>\n",
       "    </tr>\n",
       "  </tbody>\n",
       "</table>\n",
       "</div>"
      ],
      "text/plain": [
       "000001.SZ        BID       ASK\n",
       "Date                          \n",
       "2016-06-14   8.65833  8.666663\n",
       "2016-06-15  8.699997   8.70833\n",
       "2016-06-16      8.57      8.58\n",
       "2016-06-17      8.57      8.58\n",
       "2016-06-20      8.59       8.6"
      ]
     },
     "execution_count": 71,
     "metadata": {},
     "output_type": "execute_result"
    }
   ],
   "source": [
    "df_ts"
   ]
  },
  {
   "cell_type": "code",
   "execution_count": 72,
   "id": "20da6d24-2aad-416e-870d-8cebf4aa2de3",
   "metadata": {},
   "outputs": [
    {
     "name": "stdout",
     "output_type": "stream",
     "text": [
      "2023-08-18 2023-05-10\n"
     ]
    }
   ],
   "source": [
    "import datetime as dt\n",
    "today = dt.date.today()\n",
    "d = today - dt.timedelta(days=100)\n",
    "print(today, d)"
   ]
  },
  {
   "cell_type": "code",
   "execution_count": 75,
   "id": "dc0b74a5-ca08-478e-bad5-509bd3a41735",
   "metadata": {},
   "outputs": [
    {
     "data": {
      "text/html": [
       "<div>\n",
       "<style scoped>\n",
       "    .dataframe tbody tr th:only-of-type {\n",
       "        vertical-align: middle;\n",
       "    }\n",
       "\n",
       "    .dataframe tbody tr th {\n",
       "        vertical-align: top;\n",
       "    }\n",
       "\n",
       "    .dataframe thead th {\n",
       "        text-align: right;\n",
       "    }\n",
       "</style>\n",
       "<table border=\"1\" class=\"dataframe\">\n",
       "  <thead>\n",
       "    <tr style=\"text-align: right;\">\n",
       "      <th>000001.SZ</th>\n",
       "      <th>BID</th>\n",
       "      <th>ASK</th>\n",
       "    </tr>\n",
       "    <tr>\n",
       "      <th>Date</th>\n",
       "      <th></th>\n",
       "      <th></th>\n",
       "    </tr>\n",
       "  </thead>\n",
       "  <tbody>\n",
       "    <tr>\n",
       "      <th>2023-05-11</th>\n",
       "      <td>12.84</td>\n",
       "      <td>12.85</td>\n",
       "    </tr>\n",
       "    <tr>\n",
       "      <th>2023-05-12</th>\n",
       "      <td>12.62</td>\n",
       "      <td>12.63</td>\n",
       "    </tr>\n",
       "    <tr>\n",
       "      <th>2023-05-15</th>\n",
       "      <td>12.82</td>\n",
       "      <td>12.83</td>\n",
       "    </tr>\n",
       "    <tr>\n",
       "      <th>2023-05-16</th>\n",
       "      <td>12.61</td>\n",
       "      <td>12.62</td>\n",
       "    </tr>\n",
       "    <tr>\n",
       "      <th>2023-05-17</th>\n",
       "      <td>12.49</td>\n",
       "      <td>12.5</td>\n",
       "    </tr>\n",
       "    <tr>\n",
       "      <th>...</th>\n",
       "      <td>...</td>\n",
       "      <td>...</td>\n",
       "    </tr>\n",
       "    <tr>\n",
       "      <th>2023-08-14</th>\n",
       "      <td>11.67</td>\n",
       "      <td>11.68</td>\n",
       "    </tr>\n",
       "    <tr>\n",
       "      <th>2023-08-15</th>\n",
       "      <td>11.73</td>\n",
       "      <td>11.74</td>\n",
       "    </tr>\n",
       "    <tr>\n",
       "      <th>2023-08-16</th>\n",
       "      <td>11.72</td>\n",
       "      <td>11.73</td>\n",
       "    </tr>\n",
       "    <tr>\n",
       "      <th>2023-08-17</th>\n",
       "      <td>11.57</td>\n",
       "      <td>11.58</td>\n",
       "    </tr>\n",
       "    <tr>\n",
       "      <th>2023-08-18</th>\n",
       "      <td>11.55</td>\n",
       "      <td>11.56</td>\n",
       "    </tr>\n",
       "  </tbody>\n",
       "</table>\n",
       "<p>70 rows × 2 columns</p>\n",
       "</div>"
      ],
      "text/plain": [
       "000001.SZ     BID    ASK\n",
       "Date                    \n",
       "2023-05-11  12.84  12.85\n",
       "2023-05-12  12.62  12.63\n",
       "2023-05-15  12.82  12.83\n",
       "2023-05-16  12.61  12.62\n",
       "2023-05-17  12.49   12.5\n",
       "...           ...    ...\n",
       "2023-08-14  11.67  11.68\n",
       "2023-08-15  11.73  11.74\n",
       "2023-08-16  11.72  11.73\n",
       "2023-08-17  11.57  11.58\n",
       "2023-08-18  11.55  11.56\n",
       "\n",
       "[70 rows x 2 columns]"
      ]
     },
     "execution_count": 75,
     "metadata": {},
     "output_type": "execute_result"
    }
   ],
   "source": [
    "df_ts = rd.get_history(universe=[\"000001.SZ\"], fields=[\"BID\", \"ASK\"], interval=\"1D\",\n",
    "               start = d, end = today)\n",
    "df_ts"
   ]
  },
  {
   "cell_type": "markdown",
   "id": "28a37468-9e82-4a17-b3fd-0bb76e6b263f",
   "metadata": {},
   "source": [
    "# Estadística Básica"
   ]
  },
  {
   "cell_type": "code",
   "execution_count": 77,
   "id": "73028e59-f87f-4a66-b1ae-7078025463f6",
   "metadata": {},
   "outputs": [
    {
     "data": {
      "text/plain": [
       "['BASFn.DE',\n",
       " 'IFXGn.DE',\n",
       " 'SIEGn.DE',\n",
       " 'EONGn.DE',\n",
       " 'DBKGn.DE',\n",
       " 'SATG_p.DE',\n",
       " 'SAPG.DE',\n",
       " 'BAYGn.DE',\n",
       " 'RWEG.DE',\n",
       " '1COV.DE']"
      ]
     },
     "execution_count": 77,
     "metadata": {},
     "output_type": "execute_result"
    }
   ],
   "source": [
    "dax_corto = dax['Instrument'][0:10].tolist()\n",
    "dax_corto"
   ]
  },
  {
   "cell_type": "code",
   "execution_count": 78,
   "id": "94a0ddaf-e462-46f7-b99d-13dc7c9f7764",
   "metadata": {},
   "outputs": [
    {
     "name": "stdout",
     "output_type": "stream",
     "text": [
      "2023-08-18 22:44:46.262046 2023-05-10 22:44:46.262046\n"
     ]
    }
   ],
   "source": [
    "today = dt.datetime.today()\n",
    "d = today - dt.timedelta(days=100)\n",
    "print(today, d)"
   ]
  },
  {
   "cell_type": "code",
   "execution_count": 82,
   "id": "b5771c30-2198-463f-9fef-c30f293a92d4",
   "metadata": {},
   "outputs": [
    {
     "data": {
      "text/html": [
       "<div>\n",
       "<style scoped>\n",
       "    .dataframe tbody tr th:only-of-type {\n",
       "        vertical-align: middle;\n",
       "    }\n",
       "\n",
       "    .dataframe tbody tr th {\n",
       "        vertical-align: top;\n",
       "    }\n",
       "\n",
       "    .dataframe thead th {\n",
       "        text-align: right;\n",
       "    }\n",
       "</style>\n",
       "<table border=\"1\" class=\"dataframe\">\n",
       "  <thead>\n",
       "    <tr style=\"text-align: right;\">\n",
       "      <th>BID</th>\n",
       "      <th>BASFn.DE</th>\n",
       "      <th>IFXGn.DE</th>\n",
       "      <th>SIEGn.DE</th>\n",
       "      <th>EONGn.DE</th>\n",
       "      <th>DBKGn.DE</th>\n",
       "      <th>SATG_p.DE</th>\n",
       "      <th>SAPG.DE</th>\n",
       "      <th>BAYGn.DE</th>\n",
       "      <th>RWEG.DE</th>\n",
       "      <th>1COV.DE</th>\n",
       "    </tr>\n",
       "    <tr>\n",
       "      <th>Date</th>\n",
       "      <th></th>\n",
       "      <th></th>\n",
       "      <th></th>\n",
       "      <th></th>\n",
       "      <th></th>\n",
       "      <th></th>\n",
       "      <th></th>\n",
       "      <th></th>\n",
       "      <th></th>\n",
       "      <th></th>\n",
       "    </tr>\n",
       "  </thead>\n",
       "  <tbody>\n",
       "    <tr>\n",
       "      <th>2023-05-11</th>\n",
       "      <td>47.07</td>\n",
       "      <td>33.2</td>\n",
       "      <td>148.84</td>\n",
       "      <td>11.965</td>\n",
       "      <td>9.569</td>\n",
       "      <td>348.1</td>\n",
       "      <td>122.44</td>\n",
       "      <td>54.1</td>\n",
       "      <td>41.78</td>\n",
       "      <td>39.4</td>\n",
       "    </tr>\n",
       "    <tr>\n",
       "      <th>2023-05-12</th>\n",
       "      <td>47.13</td>\n",
       "      <td>33.68</td>\n",
       "      <td>149.96</td>\n",
       "      <td>12.04</td>\n",
       "      <td>9.614</td>\n",
       "      <td>342.1</td>\n",
       "      <td>121.08</td>\n",
       "      <td>53.89</td>\n",
       "      <td>42.35</td>\n",
       "      <td>39.02</td>\n",
       "    </tr>\n",
       "    <tr>\n",
       "      <th>2023-05-15</th>\n",
       "      <td>47.775</td>\n",
       "      <td>33.49</td>\n",
       "      <td>150.46</td>\n",
       "      <td>12.035</td>\n",
       "      <td>9.713</td>\n",
       "      <td>340.0</td>\n",
       "      <td>120.22</td>\n",
       "      <td>53.24</td>\n",
       "      <td>42.46</td>\n",
       "      <td>39.39</td>\n",
       "    </tr>\n",
       "    <tr>\n",
       "      <th>2023-05-16</th>\n",
       "      <td>47.105</td>\n",
       "      <td>34.185</td>\n",
       "      <td>149.74</td>\n",
       "      <td>12.015</td>\n",
       "      <td>9.611</td>\n",
       "      <td>337.2</td>\n",
       "      <td>121.34</td>\n",
       "      <td>53.77</td>\n",
       "      <td>42.31</td>\n",
       "      <td>39.01</td>\n",
       "    </tr>\n",
       "    <tr>\n",
       "      <th>2023-05-17</th>\n",
       "      <td>46.98</td>\n",
       "      <td>34.405</td>\n",
       "      <td>153.02</td>\n",
       "      <td>11.875</td>\n",
       "      <td>9.693</td>\n",
       "      <td>329.6</td>\n",
       "      <td>122.16</td>\n",
       "      <td>53.84</td>\n",
       "      <td>41.83</td>\n",
       "      <td>39.95</td>\n",
       "    </tr>\n",
       "    <tr>\n",
       "      <th>...</th>\n",
       "      <td>...</td>\n",
       "      <td>...</td>\n",
       "      <td>...</td>\n",
       "      <td>...</td>\n",
       "      <td>...</td>\n",
       "      <td>...</td>\n",
       "      <td>...</td>\n",
       "      <td>...</td>\n",
       "      <td>...</td>\n",
       "      <td>...</td>\n",
       "    </tr>\n",
       "    <tr>\n",
       "      <th>2023-08-14</th>\n",
       "      <td>46.38</td>\n",
       "      <td>33.355</td>\n",
       "      <td>138.5</td>\n",
       "      <td>11.185</td>\n",
       "      <td>9.969</td>\n",
       "      <td>364.9</td>\n",
       "      <td>127.14</td>\n",
       "      <td>52.71</td>\n",
       "      <td>39.09</td>\n",
       "      <td>48.28</td>\n",
       "    </tr>\n",
       "    <tr>\n",
       "      <th>2023-08-15</th>\n",
       "      <td>45.72</td>\n",
       "      <td>32.89</td>\n",
       "      <td>137.92</td>\n",
       "      <td>10.975</td>\n",
       "      <td>9.922</td>\n",
       "      <td>368.9</td>\n",
       "      <td>126.22</td>\n",
       "      <td>51.88</td>\n",
       "      <td>38.75</td>\n",
       "      <td>48.16</td>\n",
       "    </tr>\n",
       "    <tr>\n",
       "      <th>2023-08-16</th>\n",
       "      <td>45.665</td>\n",
       "      <td>32.93</td>\n",
       "      <td>137.94</td>\n",
       "      <td>10.985</td>\n",
       "      <td>9.893</td>\n",
       "      <td>369.2</td>\n",
       "      <td>127.0</td>\n",
       "      <td>50.94</td>\n",
       "      <td>38.83</td>\n",
       "      <td>48.3</td>\n",
       "    </tr>\n",
       "    <tr>\n",
       "      <th>2023-08-17</th>\n",
       "      <td>45.755</td>\n",
       "      <td>32.135</td>\n",
       "      <td>135.76</td>\n",
       "      <td>11.105</td>\n",
       "      <td>9.91</td>\n",
       "      <td>368.6</td>\n",
       "      <td>123.96</td>\n",
       "      <td>51.25</td>\n",
       "      <td>38.45</td>\n",
       "      <td>48.27</td>\n",
       "    </tr>\n",
       "    <tr>\n",
       "      <th>2023-08-18</th>\n",
       "      <td>45.56</td>\n",
       "      <td>31.97</td>\n",
       "      <td>134.32</td>\n",
       "      <td>11.18</td>\n",
       "      <td>9.877</td>\n",
       "      <td>355.0</td>\n",
       "      <td>124.26</td>\n",
       "      <td>50.34</td>\n",
       "      <td>38.4</td>\n",
       "      <td>47.99</td>\n",
       "    </tr>\n",
       "  </tbody>\n",
       "</table>\n",
       "<p>72 rows × 10 columns</p>\n",
       "</div>"
      ],
      "text/plain": [
       "BID         BASFn.DE  IFXGn.DE  SIEGn.DE  EONGn.DE  DBKGn.DE  SATG_p.DE  \\\n",
       "Date                                                                      \n",
       "2023-05-11     47.07      33.2    148.84    11.965     9.569      348.1   \n",
       "2023-05-12     47.13     33.68    149.96     12.04     9.614      342.1   \n",
       "2023-05-15    47.775     33.49    150.46    12.035     9.713      340.0   \n",
       "2023-05-16    47.105    34.185    149.74    12.015     9.611      337.2   \n",
       "2023-05-17     46.98    34.405    153.02    11.875     9.693      329.6   \n",
       "...              ...       ...       ...       ...       ...        ...   \n",
       "2023-08-14     46.38    33.355     138.5    11.185     9.969      364.9   \n",
       "2023-08-15     45.72     32.89    137.92    10.975     9.922      368.9   \n",
       "2023-08-16    45.665     32.93    137.94    10.985     9.893      369.2   \n",
       "2023-08-17    45.755    32.135    135.76    11.105      9.91      368.6   \n",
       "2023-08-18     45.56     31.97    134.32     11.18     9.877      355.0   \n",
       "\n",
       "BID         SAPG.DE  BAYGn.DE  RWEG.DE  1COV.DE  \n",
       "Date                                             \n",
       "2023-05-11   122.44      54.1    41.78     39.4  \n",
       "2023-05-12   121.08     53.89    42.35    39.02  \n",
       "2023-05-15   120.22     53.24    42.46    39.39  \n",
       "2023-05-16   121.34     53.77    42.31    39.01  \n",
       "2023-05-17   122.16     53.84    41.83    39.95  \n",
       "...             ...       ...      ...      ...  \n",
       "2023-08-14   127.14     52.71    39.09    48.28  \n",
       "2023-08-15   126.22     51.88    38.75    48.16  \n",
       "2023-08-16    127.0     50.94    38.83     48.3  \n",
       "2023-08-17   123.96     51.25    38.45    48.27  \n",
       "2023-08-18   124.26     50.34     38.4    47.99  \n",
       "\n",
       "[72 rows x 10 columns]"
      ]
     },
     "execution_count": 82,
     "metadata": {},
     "output_type": "execute_result"
    }
   ],
   "source": [
    "df_ts = rd.get_history(universe=dax_corto, fields=[\"BID\"], interval=\"1D\",\n",
    "               start = d, end = today)\n",
    "df_ts"
   ]
  },
  {
   "cell_type": "code",
   "execution_count": 83,
   "id": "a4c44901-707e-40c4-94b5-ec50b06a5582",
   "metadata": {},
   "outputs": [
    {
     "data": {
      "text/html": [
       "<div>\n",
       "<style scoped>\n",
       "    .dataframe tbody tr th:only-of-type {\n",
       "        vertical-align: middle;\n",
       "    }\n",
       "\n",
       "    .dataframe tbody tr th {\n",
       "        vertical-align: top;\n",
       "    }\n",
       "\n",
       "    .dataframe thead th {\n",
       "        text-align: right;\n",
       "    }\n",
       "</style>\n",
       "<table border=\"1\" class=\"dataframe\">\n",
       "  <thead>\n",
       "    <tr style=\"text-align: right;\">\n",
       "      <th>BID</th>\n",
       "      <th>BASFn.DE</th>\n",
       "      <th>IFXGn.DE</th>\n",
       "      <th>SIEGn.DE</th>\n",
       "      <th>EONGn.DE</th>\n",
       "      <th>DBKGn.DE</th>\n",
       "      <th>SATG_p.DE</th>\n",
       "      <th>SAPG.DE</th>\n",
       "      <th>BAYGn.DE</th>\n",
       "      <th>RWEG.DE</th>\n",
       "      <th>1COV.DE</th>\n",
       "    </tr>\n",
       "  </thead>\n",
       "  <tbody>\n",
       "    <tr>\n",
       "      <th>count</th>\n",
       "      <td>72.000000</td>\n",
       "      <td>72.000000</td>\n",
       "      <td>72.000000</td>\n",
       "      <td>72.000000</td>\n",
       "      <td>72.000000</td>\n",
       "      <td>72.000000</td>\n",
       "      <td>72.000000</td>\n",
       "      <td>72.000000</td>\n",
       "      <td>72.000000</td>\n",
       "      <td>72.000000</td>\n",
       "    </tr>\n",
       "    <tr>\n",
       "      <th>mean</th>\n",
       "      <td>46.091042</td>\n",
       "      <td>36.034931</td>\n",
       "      <td>151.943611</td>\n",
       "      <td>11.377639</td>\n",
       "      <td>9.747778</td>\n",
       "      <td>334.350000</td>\n",
       "      <td>123.430556</td>\n",
       "      <td>51.843611</td>\n",
       "      <td>39.666111</td>\n",
       "      <td>44.606806</td>\n",
       "    </tr>\n",
       "    <tr>\n",
       "      <th>std</th>\n",
       "      <td>1.593983</td>\n",
       "      <td>1.915250</td>\n",
       "      <td>7.324171</td>\n",
       "      <td>0.246649</td>\n",
       "      <td>0.291296</td>\n",
       "      <td>22.234588</td>\n",
       "      <td>2.183965</td>\n",
       "      <td>1.390182</td>\n",
       "      <td>0.985447</td>\n",
       "      <td>4.499407</td>\n",
       "    </tr>\n",
       "    <tr>\n",
       "      <th>min</th>\n",
       "      <td>42.335000</td>\n",
       "      <td>31.970000</td>\n",
       "      <td>134.320000</td>\n",
       "      <td>10.935000</td>\n",
       "      <td>9.081000</td>\n",
       "      <td>292.700000</td>\n",
       "      <td>119.200000</td>\n",
       "      <td>48.640000</td>\n",
       "      <td>38.130000</td>\n",
       "      <td>35.950000</td>\n",
       "    </tr>\n",
       "    <tr>\n",
       "      <th>25%</th>\n",
       "      <td>45.277500</td>\n",
       "      <td>34.506250</td>\n",
       "      <td>148.500000</td>\n",
       "      <td>11.226250</td>\n",
       "      <td>9.571250</td>\n",
       "      <td>315.475000</td>\n",
       "      <td>121.945000</td>\n",
       "      <td>50.660000</td>\n",
       "      <td>39.027500</td>\n",
       "      <td>39.625000</td>\n",
       "    </tr>\n",
       "    <tr>\n",
       "      <th>50%</th>\n",
       "      <td>46.462500</td>\n",
       "      <td>36.102500</td>\n",
       "      <td>151.730000</td>\n",
       "      <td>11.360000</td>\n",
       "      <td>9.757000</td>\n",
       "      <td>333.650000</td>\n",
       "      <td>123.220000</td>\n",
       "      <td>51.850000</td>\n",
       "      <td>39.480000</td>\n",
       "      <td>47.100000</td>\n",
       "    </tr>\n",
       "    <tr>\n",
       "      <th>75%</th>\n",
       "      <td>47.146250</td>\n",
       "      <td>37.445000</td>\n",
       "      <td>157.585000</td>\n",
       "      <td>11.495000</td>\n",
       "      <td>9.923750</td>\n",
       "      <td>354.475000</td>\n",
       "      <td>124.655000</td>\n",
       "      <td>52.617500</td>\n",
       "      <td>40.070000</td>\n",
       "      <td>48.255000</td>\n",
       "    </tr>\n",
       "    <tr>\n",
       "      <th>max</th>\n",
       "      <td>49.410000</td>\n",
       "      <td>39.995000</td>\n",
       "      <td>166.220000</td>\n",
       "      <td>12.040000</td>\n",
       "      <td>10.558000</td>\n",
       "      <td>373.700000</td>\n",
       "      <td>128.760000</td>\n",
       "      <td>54.630000</td>\n",
       "      <td>42.460000</td>\n",
       "      <td>50.840000</td>\n",
       "    </tr>\n",
       "  </tbody>\n",
       "</table>\n",
       "</div>"
      ],
      "text/plain": [
       "BID     BASFn.DE   IFXGn.DE    SIEGn.DE   EONGn.DE   DBKGn.DE   SATG_p.DE  \\\n",
       "count  72.000000  72.000000   72.000000  72.000000  72.000000   72.000000   \n",
       "mean   46.091042  36.034931  151.943611  11.377639   9.747778  334.350000   \n",
       "std     1.593983   1.915250    7.324171   0.246649   0.291296   22.234588   \n",
       "min    42.335000  31.970000  134.320000  10.935000   9.081000  292.700000   \n",
       "25%    45.277500  34.506250  148.500000  11.226250   9.571250  315.475000   \n",
       "50%    46.462500  36.102500  151.730000  11.360000   9.757000  333.650000   \n",
       "75%    47.146250  37.445000  157.585000  11.495000   9.923750  354.475000   \n",
       "max    49.410000  39.995000  166.220000  12.040000  10.558000  373.700000   \n",
       "\n",
       "BID       SAPG.DE   BAYGn.DE    RWEG.DE    1COV.DE  \n",
       "count   72.000000  72.000000  72.000000  72.000000  \n",
       "mean   123.430556  51.843611  39.666111  44.606806  \n",
       "std      2.183965   1.390182   0.985447   4.499407  \n",
       "min    119.200000  48.640000  38.130000  35.950000  \n",
       "25%    121.945000  50.660000  39.027500  39.625000  \n",
       "50%    123.220000  51.850000  39.480000  47.100000  \n",
       "75%    124.655000  52.617500  40.070000  48.255000  \n",
       "max    128.760000  54.630000  42.460000  50.840000  "
      ]
     },
     "execution_count": 83,
     "metadata": {},
     "output_type": "execute_result"
    }
   ],
   "source": [
    "df_ts.describe()"
   ]
  },
  {
   "cell_type": "code",
   "execution_count": 84,
   "id": "69402f31-acec-4f0d-b592-78d1092ef41f",
   "metadata": {},
   "outputs": [
    {
     "name": "stdout",
     "output_type": "stream",
     "text": [
      "BID        BASFn.DE  IFXGn.DE  SIEGn.DE  EONGn.DE  DBKGn.DE  SATG_p.DE  \\\n",
      "BID                                                                      \n",
      "BASFn.DE   1.000000  0.072971 -0.052438  0.052896  0.769803   0.683035   \n",
      "IFXGn.DE   0.072971  1.000000  0.533670  0.235889  0.070199  -0.141399   \n",
      "SIEGn.DE  -0.052438  0.533670  1.000000  0.160043 -0.146010  -0.300764   \n",
      "EONGn.DE   0.052896  0.235889  0.160043  1.000000 -0.081092  -0.186810   \n",
      "DBKGn.DE   0.769803  0.070199 -0.146010 -0.081092  1.000000   0.719336   \n",
      "SATG_p.DE  0.683035 -0.141399 -0.300764 -0.186810  0.719336   1.000000   \n",
      "SAPG.DE    0.013676  0.307736 -0.047956 -0.199737  0.030974  -0.012189   \n",
      "BAYGn.DE   0.612403 -0.266999  0.228566  0.066391  0.372451   0.374483   \n",
      "RWEG.DE    0.027759  0.005774  0.360137  0.736794 -0.129090  -0.167026   \n",
      "1COV.DE   -0.139773  0.231748 -0.488482 -0.063839  0.142946   0.118000   \n",
      "\n",
      "BID         SAPG.DE  BAYGn.DE   RWEG.DE   1COV.DE  \n",
      "BID                                                \n",
      "BASFn.DE   0.013676  0.612403  0.027759 -0.139773  \n",
      "IFXGn.DE   0.307736 -0.266999  0.005774  0.231748  \n",
      "SIEGn.DE  -0.047956  0.228566  0.360137 -0.488482  \n",
      "EONGn.DE  -0.199737  0.066391  0.736794 -0.063839  \n",
      "DBKGn.DE   0.030974  0.372451 -0.129090  0.142946  \n",
      "SATG_p.DE -0.012189  0.374483 -0.167026  0.118000  \n",
      "SAPG.DE    1.000000 -0.162555 -0.225706  0.219617  \n",
      "BAYGn.DE  -0.162555  1.000000  0.370794 -0.587436  \n",
      "RWEG.DE   -0.225706  0.370794  1.000000 -0.375240  \n",
      "1COV.DE    0.219617 -0.587436 -0.375240  1.000000  \n"
     ]
    }
   ],
   "source": [
    "correlacion = df_ts[dax_corto].corr()\n",
    "print(correlacion)"
   ]
  },
  {
   "cell_type": "code",
   "execution_count": 86,
   "id": "54a79bae-4103-4551-ba54-1598525c0709",
   "metadata": {},
   "outputs": [
    {
     "data": {
      "text/plain": [
       "<AxesSubplot:xlabel='BID', ylabel='BID'>"
      ]
     },
     "execution_count": 86,
     "metadata": {},
     "output_type": "execute_result"
    },
    {
     "data": {
      "image/png": "[encoded data removed]",
      "text/plain": [
       "<Figure size 1250x350 with 2 Axes>"
      ]
     },
     "metadata": {},
     "output_type": "display_data"
    }
   ],
   "source": [
    "sns.heatmap(df_ts[dax_corto].corr(), annot = True, fmt='.2g',cmap= 'coolwarm')"
   ]
  },
  {
   "cell_type": "code",
   "execution_count": null,
   "id": "24ba9475-2f01-4a48-a26c-c96498024100",
   "metadata": {},
   "outputs": [],
   "source": [
    "Seleccionar un índice o fondo \n",
    "Calcular el rendimiento del fondo o índice \n",
    "- 1 año para atrás hoy y \n",
    "- lo van comparar a 2 años atrás a 1 año\n",
    "Filtro de Clenow a los instrumuentos que son más dinámicos del periodo 2 años atrás a 1 año (2021 a 2022)\n",
    "- rendimientos en el periodo de 1 año para atrás hoy (2022 a 2023)\n",
    "\n",
    "Si se cumple o no la hipotésis que plantea Clenow"
   ]
  },
  {
   "cell_type": "code",
   "execution_count": null,
   "id": "c4188244-f743-49f5-950a-54f705698171",
   "metadata": {},
   "outputs": [],
   "source": [
    "https://developers.lseg.com/en/article-catalog/article/getting-start-with-refinitiv-data-platform"
   ]
  }
 ],
 "metadata": {
  "kernelspec": {
   "display_name": "Python 3 (ipykernel)",
   "language": "python",
   "name": "python3"
  },
  "language_info": {
   "codemirror_mode": {
    "name": "ipython",
    "version": 3
   },
   "file_extension": ".py",
   "mimetype": "text/x-python",
   "name": "python",
   "nbconvert_exporter": "python",
   "pygments_lexer": "ipython3",
   "version": "3.11.9"
  },
  "widgets": {
   "application/vnd.jupyter.widget-state+json": {
    "state": {},
    "version_major": 2,
    "version_minor": 0
   }
  }
 },
 "nbformat": 4,
 "nbformat_minor": 5
}
