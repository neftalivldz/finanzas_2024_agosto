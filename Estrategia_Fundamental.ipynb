{
 "cells": [
  {
   "cell_type": "code",
   "execution_count": 1,
   "id": "1adcba85-f4bb-4189-851f-2f3008a3ba79",
   "metadata": {},
   "outputs": [],
   "source": [
    "import pandas as pd\n",
    "import numpy as np\n",
    "import math\n",
    "from statsmodels.api import OLS, add_constant\n",
    "import pandas_datareader.data as web\n",
    "from linearmodels.asset_pricing import LinearFactorModel\n",
    "import matplotlib.pyplot as plt\n",
    "import seaborn as sns\n",
    "import ipywidgets as widgets\n",
    "from ipywidgets import Box, Layout\n",
    "%matplotlib inline\n"
   ]
  },
  {
   "cell_type": "code",
   "execution_count": 2,
   "id": "fdb65c2a-0899-4fe5-af6a-8f100e7266dd",
   "metadata": {},
   "outputs": [
    {
     "data": {
      "application/vnd.jupyter.widget-view+json": {
       "model_id": "7ac610cb91fc4abc96b7a539fd7cb0f2",
       "version_major": 2,
       "version_minor": 0
      },
      "text/plain": [
       "Box(children=(Text(value='', description='RIC:', placeholder='Type something'),), layout=Layout(align_items='s…"
      ]
     },
     "execution_count": 2,
     "metadata": {},
     "output_type": "execute_result"
    }
   ],
   "source": [
    "ric = widgets.Text(\n",
    "    value='',\n",
    "    placeholder='Type something',\n",
    "    description='RIC:',\n",
    "    disabled=False\n",
    ")\n",
    "\n",
    "box_layout = Layout(display='flex',\n",
    "                    flex_flow='row wrap',\n",
    "                    align_items='stretch',\n",
    "                    border='solid',\n",
    "                    width='100%')\n",
    "\n",
    "items = [ric]\n",
    "box = Box(children=items,layout=box_layout)\n",
    "\n",
    "box"
   ]
  },
  {
   "cell_type": "code",
   "execution_count": 3,
   "id": "65e4d17f-d750-4508-bae6-5635ee905330",
   "metadata": {},
   "outputs": [
    {
     "name": "stdout",
     "output_type": "stream",
     "text": [
      "MSFT.O\n"
     ]
    }
   ],
   "source": [
    "print(ric.value)"
   ]
  },
  {
   "cell_type": "code",
   "execution_count": 4,
   "id": "2e284a91-d23a-4a8b-92bd-e2a1bc53992b",
   "metadata": {},
   "outputs": [],
   "source": [
    "import refinitiv.dataplatform as rdp\n",
    "\n",
    "%run ../credentials.ipynb"
   ]
  },
  {
   "cell_type": "code",
   "execution_count": 5,
   "id": "7c2efc87-aea5-453b-b7ce-b7ae2cc6f5ea",
   "metadata": {},
   "outputs": [
    {
     "name": "stderr",
     "output_type": "stream",
     "text": [
      "ERROR!!! Failed to request a new token......\n",
      "         Token requested error b'{\"error\":\"invalid_grant\"   } '\n",
      "ERROR!!! request a new refresh token has been failed.\n",
      "The server-mode is disabled, so we do not re-authorize with username/password.\n",
      "ERROR!!! authentication handler raise an exception.\n",
      "ValueError('ERROR!!! request a new refresh token has been failed.\\nThe server-mode is disabled, so we do not re-authorize with username/password.')\n"
     ]
    }
   ],
   "source": [
    "session = rdp.open_platform_session(\n",
    "    APP_KEY,\n",
    "    rdp.GrantPassword(\n",
    "        username = RDP_LOGIN,\n",
    "        password = RDP_PASSWORD\n",
    "    )\n",
    ")\n",
    "\n",
    "\n"
   ]
  },
  {
   "cell_type": "code",
   "execution_count": null,
   "id": "30398aeb-6358-48d0-b68c-48406cf36b18",
   "metadata": {},
   "outputs": [],
   "source": [
    "## Identificar peers"
   ]
  },
  {
   "cell_type": "code",
   "execution_count": null,
   "id": "80a39608-3d64-4843-a9f8-d0b8db38edf2",
   "metadata": {},
   "outputs": [],
   "source": [
    "peers= rdp.get_data([ric.value,\"Peers(\"+ric.value+\")\"],['CF_CLOSE','CF_NAME'])\n",
    "peers"
   ]
  },
  {
   "cell_type": "code",
   "execution_count": null,
   "id": "8f7c67c7-8b0e-41c7-93e9-7d5882054ba5",
   "metadata": {},
   "outputs": [],
   "source": []
  }
 ],
 "metadata": {
  "kernelspec": {
   "display_name": "Python 3 (ipykernel)",
   "language": "python",
   "name": "python3"
  },
  "language_info": {
   "codemirror_mode": {
    "name": "ipython",
    "version": 3
   },
   "file_extension": ".py",
   "mimetype": "text/x-python",
   "name": "python",
   "nbconvert_exporter": "python",
   "pygments_lexer": "ipython3",
   "version": "3.11.9"
  }
 },
 "nbformat": 4,
 "nbformat_minor": 5
}
