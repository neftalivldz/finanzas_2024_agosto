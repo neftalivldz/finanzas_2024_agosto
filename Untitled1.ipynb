{
 "cells": [
  {
   "cell_type": "code",
   "execution_count": null,
   "id": "cbe220d1-8a1a-42a0-8cfd-3bf09abf05e6",
   "metadata": {},
   "outputs": [],
   "source": [
    "query = FilingsQuery().form_type(\"10-Q\") # Defines the Form Type used to query across the Filings database\n",
    "feed (FilingsQuery.Feed.EDGAR) # Only look for Filings related to the EDGAR (US SEC)\n",
    "orgid 1234) # Search for a specific company using its organization ID or Perm ID\n",
    "start _date 2021-05-3100:00:002) # Filings for a specific date range\n",
    "end_date(\"2022-06-30T23:59:59Z\") #\n",
    "•text (\"BREXIT\") # Filter documents if it contains specific text\n",
    "•sections([\"CashFlowStatement\"])# Extract specific sections of text within the filings\n",
    "• graphQL  # Process and return the GraphQL string"
   ]
  },
  {
   "cell_type": "code",
   "execution_count": 1,
   "id": "e142cc06-fda4-4966-84a3-021bb419b71e",
   "metadata": {},
   "outputs": [],
   "source": [
    "# Use the RIC to define our company identifier\n",
    "identifier = \"TSLA.O\" # Tesla\n",
    "\n",
    "# Data ranges to capture our data sets used to predict sentiment\n",
    "start = \"2010-01-01T00:00:00Z\"\n",
    "end = \"2022-10-31T23:59:59Z\""
   ]
  },
  {
   "cell_type": "code",
   "execution_count": 5,
   "id": "51cc06c3-104c-4263-958f-2f4202206f4b",
   "metadata": {},
   "outputs": [
    {
     "ename": "NameError",
     "evalue": "name 'filings' is not defined",
     "output_type": "error",
     "traceback": [
      "\u001b[0;31m---------------------------------------------------------------------------\u001b[0m",
      "\u001b[0;31mNameError\u001b[0m                                 Traceback (most recent call last)",
      "Cell \u001b[0;32mIn[5], line 5\u001b[0m\n\u001b[1;32m      1\u001b[0m \u001b[38;5;66;03m# Query the Filings service using the Refinitiv Data Library for Python.\u001b[39;00m\n\u001b[1;32m      2\u001b[0m \u001b[38;5;66;03m#\u001b[39;00m\n\u001b[1;32m      3\u001b[0m \u001b[38;5;66;03m# Retrieve SEC filings for the specific company - specify the text we want to retrieve\u001b[39;00m\n\u001b[1;32m      4\u001b[0m \u001b[38;5;66;03m# is defined within the \"Management Discussion\" section.\u001b[39;00m\n\u001b[0;32m----> 5\u001b[0m response \u001b[38;5;241m=\u001b[39m \u001b[43mfilings\u001b[49m\u001b[38;5;241m.\u001b[39msearch\u001b[38;5;241m.\u001b[39mDefinition(\n\u001b[1;32m      6\u001b[0m query \u001b[38;5;241m=\u001b[39m FilingsQuery()\u001b[38;5;241m.\u001b[39mform_type(\u001b[38;5;124m\"\u001b[39m\u001b[38;5;124m10-Q\u001b[39m\u001b[38;5;124m\"\u001b[39m)\u001b[38;5;241m.\u001b[39morgid(SymbolLookup(ric\u001b[38;5;241m=\u001b[39midentifier)\u001b[38;5;241m.\u001b[39mconvert())\u001b[38;5;241m.\u001b[39mfeed(FilingsQuery\u001b[38;5;241m.\u001b[39mFeed\u001b[38;5;241m.\u001b[39mEDGAR)\u001b[38;5;241m.\u001b[39msections([\u001b[38;5;124m\"\u001b[39m\u001b[38;5;124mManagementDiscussion\u001b[39m\u001b[38;5;124m\"\u001b[39m])\u001b[38;5;241m.\u001b[39mstart_date(start)\u001b[38;5;241m.\u001b[39mend_date(end)\u001b[38;5;241m.\u001b[39mlimit(\u001b[38;5;241m100\u001b[39m)\u001b[38;5;241m.\u001b[39mgraphQL)\u001b[38;5;241m.\u001b[39mget_data()\n",
      "\u001b[0;31mNameError\u001b[0m: name 'filings' is not defined"
     ]
    }
   ],
   "source": [
    "# Query the Filings service using the Refinitiv Data Library for Python.\n",
    "#\n",
    "# Retrieve SEC filings for the specific company - specify the text we want to retrieve\n",
    "# is defined within the \"Management Discussion\" section.\n",
    "response = filings.search.Definition(\n",
    "query = FilingsQuery().form_type(\"10-Q\").orgid(SymbolLookup(ric=identifier).convert()).feed(FilingsQuery.Feed.EDGAR).sections([\"ManagementDiscussion\"]).start_date(start).end_date(end).limit(100).graphQL).get_data()"
   ]
  },
  {
   "cell_type": "code",
   "execution_count": null,
   "id": "af0f2e8d-111c-47d9-892c-982830f44aad",
   "metadata": {},
   "outputs": [],
   "source": []
  }
 ],
 "metadata": {
  "kernelspec": {
   "display_name": "Python 3 (ipykernel)",
   "language": "python",
   "name": "python3"
  },
  "language_info": {
   "codemirror_mode": {
    "name": "ipython",
    "version": 3
   },
   "file_extension": ".py",
   "mimetype": "text/x-python",
   "name": "python",
   "nbconvert_exporter": "python",
   "pygments_lexer": "ipython3",
   "version": "3.11.9"
  }
 },
 "nbformat": 4,
 "nbformat_minor": 5
}
