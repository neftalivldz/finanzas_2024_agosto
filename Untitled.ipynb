{
 "cells": [
  {
   "cell_type": "code",
   "execution_count": null,
   "id": "92b3e181-23fc-4796-9d09-f8a17be6d782",
   "metadata": {},
   "outputs": [],
   "source": [
    "Traer el universo de activos que componen el S&P 500\n",
    "Cada mes seleccione 50 activos\n",
    "Generar su historia para lós últimos 200 días\n",
    "Generar de forma aleatoria los pesos de los 50 activos tal que sumados sean 100%\n",
    "Generar el promedio móvil de los últimos 200 días del índice\n",
    "\n",
    "Compara con el índice S&P 500\n"
   ]
  }
 ],
 "metadata": {
  "kernelspec": {
   "display_name": "Python 3 (ipykernel)",
   "language": "python",
   "name": "python3"
  },
  "language_info": {
   "codemirror_mode": {
    "name": "ipython",
    "version": 3
   },
   "file_extension": ".py",
   "mimetype": "text/x-python",
   "name": "python",
   "nbconvert_exporter": "python",
   "pygments_lexer": "ipython3",
   "version": "3.11.9"
  }
 },
 "nbformat": 4,
 "nbformat_minor": 5
}
